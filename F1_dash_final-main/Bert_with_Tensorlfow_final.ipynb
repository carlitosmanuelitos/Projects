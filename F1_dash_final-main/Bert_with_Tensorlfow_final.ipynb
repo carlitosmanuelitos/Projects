{
  "cells": [
    {
      "cell_type": "markdown",
      "metadata": {
        "id": "view-in-github",
        "colab_type": "text"
      },
      "source": [
        "<a href=\"https://colab.research.google.com/github/MiguelOva/F1_dash_final/blob/main/Bert_with_Tensorlfow_final.ipynb\" target=\"_parent\"><img src=\"https://colab.research.google.com/assets/colab-badge.svg\" alt=\"Open In Colab\"/></a>"
      ]
    },
    {
      "cell_type": "code",
      "execution_count": 49,
      "id": "5b66e77b",
      "metadata": {
        "id": "5b66e77b"
      },
      "outputs": [],
      "source": [
        "# Text Mining Project\n",
        "\n",
        "#### Spring 2022\n",
        "#### Opinion Mining Evaluation Forum\n",
        "\n",
        "#### Students m20200246 Pedro Costa & m2019XXXX Ana Bernardes"
      ]
    },
    {
      "cell_type": "code",
      "execution_count": 50,
      "id": "932b25c1",
      "metadata": {
        "id": "932b25c1"
      },
      "outputs": [],
      "source": [
        "### Data import"
      ]
    },
    {
      "cell_type": "markdown",
      "source": [
        "# -------------------------------------------------------------------\n",
        "## Data Loading and pre processing"
      ],
      "metadata": {
        "id": "YwARiK2gcWxI"
      },
      "id": "YwARiK2gcWxI"
    },
    {
      "cell_type": "code",
      "execution_count": 201,
      "id": "8507ba67",
      "metadata": {
        "id": "8507ba67"
      },
      "outputs": [],
      "source": [
        "# Loading file \n",
        "import pandas as pd\n",
        "#df = pd.read_csv('training_set.txt', delimiter = '\\t')\n",
        "df_dev = pd.read_csv('https://raw.githubusercontent.com/MiguelOva/text_mining/main/dev_set.txt', delimiter = '\\t')\n",
        "df_train = pd.read_csv('https://raw.githubusercontent.com/MiguelOva/text_mining/main/training_set.txt', delimiter = '\\t')\n",
        "df_test = pd.read_csv('https://raw.githubusercontent.com/MiguelOva/text_mining/main/test_set.txt', delimiter = '\\t')"
      ]
    },
    {
      "cell_type": "code",
      "source": [
        "import matplotlib as plt\n",
        "def plot_confusion_matrix(y_true, y_pred, classes,\n",
        "                          normalize=False,\n",
        "                          title=None,\n",
        "                          cmap=plt.cm.Blues):\n",
        "    '''\n",
        "    This function prints and plots the confusion matrix.\n",
        "    Normalization can be applied by setting `normalize=True`.\n",
        "    '''\n",
        "    if not title:\n",
        "        if normalize:\n",
        "            title = 'Normalized confusion matrix'\n",
        "        else:\n",
        "            title = 'Confusion matrix, without normalization'\n",
        "\n",
        "    # Compute confusion matrix\n",
        "    cm = confusion_matrix(y_true, y_pred)\n",
        "\n",
        "    if normalize:\n",
        "        cm = cm.astype('float') / cm.sum(axis=1)[:, np.newaxis]\n",
        "\n",
        "    fig, ax = plt.subplots()\n",
        "    \n",
        "    # Set size\n",
        "    fig.set_size_inches(12.5, 7.5)\n",
        "    im = ax.imshow(cm, interpolation='nearest', cmap=cmap)\n",
        "    ax.figure.colorbar(im, ax=ax)\n",
        "    ax.grid(False)\n",
        "    \n",
        "    # We want to show all ticks...\n",
        "    ax.set(xticks=np.arange(cm.shape[1]),\n",
        "           yticks=np.arange(cm.shape[0]),\n",
        "           # ... and label them with the respective list entries\n",
        "           xticklabels=classes, yticklabels=classes,\n",
        "           title=title,\n",
        "           ylabel='True label',\n",
        "           xlabel='Predicted label')\n",
        "\n",
        "    # Rotate the tick labels and set their alignment.\n",
        "    plt.setp(ax.get_xticklabels(), rotation=45, ha=\"right\",\n",
        "             rotation_mode=\"anchor\")\n",
        "\n",
        "    # Loop over data dimensions and create text annotations.\n",
        "    fmt = '.2f' if normalize else 'd'\n",
        "    thresh = cm.max() / 2.\n",
        "    for i in range(cm.shape[0]):\n",
        "        for j in range(cm.shape[1]):\n",
        "            ax.text(j, i, format(cm[i, j], fmt),\n",
        "                    ha=\"center\", va=\"center\",\n",
        "                    color=\"white\" if cm[i, j] > thresh else \"black\")\n",
        "    fig.tight_layout()\n",
        "    return ax"
      ],
      "metadata": {
        "id": "WTk6-UymcOC-"
      },
      "id": "WTk6-UymcOC-",
      "execution_count": 202,
      "outputs": []
    },
    {
      "cell_type": "code",
      "execution_count": 203,
      "id": "493ce16e",
      "metadata": {
        "colab": {
          "base_uri": "https://localhost:8080/"
        },
        "id": "493ce16e",
        "outputId": "41635a89-636b-4954-8ff2-a6404c9195b2"
      },
      "outputs": [
        {
          "output_type": "execute_result",
          "data": {
            "text/plain": [
              "14000"
            ]
          },
          "metadata": {},
          "execution_count": 203
        }
      ],
      "source": [
        "len(df_train)"
      ]
    },
    {
      "cell_type": "code",
      "execution_count": 204,
      "id": "4a980ed8",
      "metadata": {
        "colab": {
          "base_uri": "https://localhost:8080/",
          "height": 206
        },
        "id": "4a980ed8",
        "outputId": "4de62abc-c0c1-495a-bb47-e3aeb101c6cb"
      },
      "outputs": [
        {
          "output_type": "execute_result",
          "data": {
            "text/plain": [
              "                                            sentence  emotion\n",
              "0                      I'm too old to be traded in .        6\n",
              "1  Mother said you could always tell a lady by he...        8\n",
              "2   I always said I'd leave off when the time came .        6\n",
              "3                            He'll be safe with me .        2\n",
              "4                                          Lay off .        1"
            ],
            "text/html": [
              "\n",
              "  <div id=\"df-8b440cf1-961a-4f75-aef4-877e7a048cb4\">\n",
              "    <div class=\"colab-df-container\">\n",
              "      <div>\n",
              "<style scoped>\n",
              "    .dataframe tbody tr th:only-of-type {\n",
              "        vertical-align: middle;\n",
              "    }\n",
              "\n",
              "    .dataframe tbody tr th {\n",
              "        vertical-align: top;\n",
              "    }\n",
              "\n",
              "    .dataframe thead th {\n",
              "        text-align: right;\n",
              "    }\n",
              "</style>\n",
              "<table border=\"1\" class=\"dataframe\">\n",
              "  <thead>\n",
              "    <tr style=\"text-align: right;\">\n",
              "      <th></th>\n",
              "      <th>sentence</th>\n",
              "      <th>emotion</th>\n",
              "    </tr>\n",
              "  </thead>\n",
              "  <tbody>\n",
              "    <tr>\n",
              "      <th>0</th>\n",
              "      <td>I'm too old to be traded in .</td>\n",
              "      <td>6</td>\n",
              "    </tr>\n",
              "    <tr>\n",
              "      <th>1</th>\n",
              "      <td>Mother said you could always tell a lady by he...</td>\n",
              "      <td>8</td>\n",
              "    </tr>\n",
              "    <tr>\n",
              "      <th>2</th>\n",
              "      <td>I always said I'd leave off when the time came .</td>\n",
              "      <td>6</td>\n",
              "    </tr>\n",
              "    <tr>\n",
              "      <th>3</th>\n",
              "      <td>He'll be safe with me .</td>\n",
              "      <td>2</td>\n",
              "    </tr>\n",
              "    <tr>\n",
              "      <th>4</th>\n",
              "      <td>Lay off .</td>\n",
              "      <td>1</td>\n",
              "    </tr>\n",
              "  </tbody>\n",
              "</table>\n",
              "</div>\n",
              "      <button class=\"colab-df-convert\" onclick=\"convertToInteractive('df-8b440cf1-961a-4f75-aef4-877e7a048cb4')\"\n",
              "              title=\"Convert this dataframe to an interactive table.\"\n",
              "              style=\"display:none;\">\n",
              "        \n",
              "  <svg xmlns=\"http://www.w3.org/2000/svg\" height=\"24px\"viewBox=\"0 0 24 24\"\n",
              "       width=\"24px\">\n",
              "    <path d=\"M0 0h24v24H0V0z\" fill=\"none\"/>\n",
              "    <path d=\"M18.56 5.44l.94 2.06.94-2.06 2.06-.94-2.06-.94-.94-2.06-.94 2.06-2.06.94zm-11 1L8.5 8.5l.94-2.06 2.06-.94-2.06-.94L8.5 2.5l-.94 2.06-2.06.94zm10 10l.94 2.06.94-2.06 2.06-.94-2.06-.94-.94-2.06-.94 2.06-2.06.94z\"/><path d=\"M17.41 7.96l-1.37-1.37c-.4-.4-.92-.59-1.43-.59-.52 0-1.04.2-1.43.59L10.3 9.45l-7.72 7.72c-.78.78-.78 2.05 0 2.83L4 21.41c.39.39.9.59 1.41.59.51 0 1.02-.2 1.41-.59l7.78-7.78 2.81-2.81c.8-.78.8-2.07 0-2.86zM5.41 20L4 18.59l7.72-7.72 1.47 1.35L5.41 20z\"/>\n",
              "  </svg>\n",
              "      </button>\n",
              "      \n",
              "  <style>\n",
              "    .colab-df-container {\n",
              "      display:flex;\n",
              "      flex-wrap:wrap;\n",
              "      gap: 12px;\n",
              "    }\n",
              "\n",
              "    .colab-df-convert {\n",
              "      background-color: #E8F0FE;\n",
              "      border: none;\n",
              "      border-radius: 50%;\n",
              "      cursor: pointer;\n",
              "      display: none;\n",
              "      fill: #1967D2;\n",
              "      height: 32px;\n",
              "      padding: 0 0 0 0;\n",
              "      width: 32px;\n",
              "    }\n",
              "\n",
              "    .colab-df-convert:hover {\n",
              "      background-color: #E2EBFA;\n",
              "      box-shadow: 0px 1px 2px rgba(60, 64, 67, 0.3), 0px 1px 3px 1px rgba(60, 64, 67, 0.15);\n",
              "      fill: #174EA6;\n",
              "    }\n",
              "\n",
              "    [theme=dark] .colab-df-convert {\n",
              "      background-color: #3B4455;\n",
              "      fill: #D2E3FC;\n",
              "    }\n",
              "\n",
              "    [theme=dark] .colab-df-convert:hover {\n",
              "      background-color: #434B5C;\n",
              "      box-shadow: 0px 1px 3px 1px rgba(0, 0, 0, 0.15);\n",
              "      filter: drop-shadow(0px 1px 2px rgba(0, 0, 0, 0.3));\n",
              "      fill: #FFFFFF;\n",
              "    }\n",
              "  </style>\n",
              "\n",
              "      <script>\n",
              "        const buttonEl =\n",
              "          document.querySelector('#df-8b440cf1-961a-4f75-aef4-877e7a048cb4 button.colab-df-convert');\n",
              "        buttonEl.style.display =\n",
              "          google.colab.kernel.accessAllowed ? 'block' : 'none';\n",
              "\n",
              "        async function convertToInteractive(key) {\n",
              "          const element = document.querySelector('#df-8b440cf1-961a-4f75-aef4-877e7a048cb4');\n",
              "          const dataTable =\n",
              "            await google.colab.kernel.invokeFunction('convertToInteractive',\n",
              "                                                     [key], {});\n",
              "          if (!dataTable) return;\n",
              "\n",
              "          const docLinkHtml = 'Like what you see? Visit the ' +\n",
              "            '<a target=\"_blank\" href=https://colab.research.google.com/notebooks/data_table.ipynb>data table notebook</a>'\n",
              "            + ' to learn more about interactive tables.';\n",
              "          element.innerHTML = '';\n",
              "          dataTable['output_type'] = 'display_data';\n",
              "          await google.colab.output.renderOutput(dataTable, element);\n",
              "          const docLink = document.createElement('div');\n",
              "          docLink.innerHTML = docLinkHtml;\n",
              "          element.appendChild(docLink);\n",
              "        }\n",
              "      </script>\n",
              "    </div>\n",
              "  </div>\n",
              "  "
            ]
          },
          "metadata": {},
          "execution_count": 204
        }
      ],
      "source": [
        "df_train.head()"
      ]
    },
    {
      "cell_type": "code",
      "execution_count": 205,
      "id": "66b42702",
      "metadata": {
        "id": "66b42702"
      },
      "outputs": [],
      "source": [
        "df_train = pd.DataFrame(data=df_train, columns=['sentence', 'emotion'])"
      ]
    },
    {
      "cell_type": "code",
      "execution_count": 206,
      "id": "e79d9129",
      "metadata": {
        "colab": {
          "base_uri": "https://localhost:8080/",
          "height": 423
        },
        "id": "e79d9129",
        "outputId": "8b14bbab-09cb-4f9e-afbd-047f7b851d9c"
      },
      "outputs": [
        {
          "output_type": "execute_result",
          "data": {
            "text/plain": [
              "                                              sentence  emotion\n",
              "100                      What is the matter with you ?        1\n",
              "101     Ah , yes ! ' I had a migraine , your Majesty .        8\n",
              "102                                  He was ... fine .        3\n",
              "103                              The best died there .        6\n",
              "104   What the hell is going on out there , [PERSON] ?        4\n",
              "..                                                 ...      ...\n",
              "395  This is maybe the most important case that we ...        8\n",
              "396              You think [PERSON]'s gonna buy that ?        4\n",
              "397          It's OK , I was thinking the same thing .        8\n",
              "398                     This is the captain speaking .        4\n",
              "399       We ain't hungry ... not food hungry anyway .        2\n",
              "\n",
              "[300 rows x 2 columns]"
            ],
            "text/html": [
              "\n",
              "  <div id=\"df-ef8a435d-fd02-4220-b01d-c36597c49d5f\">\n",
              "    <div class=\"colab-df-container\">\n",
              "      <div>\n",
              "<style scoped>\n",
              "    .dataframe tbody tr th:only-of-type {\n",
              "        vertical-align: middle;\n",
              "    }\n",
              "\n",
              "    .dataframe tbody tr th {\n",
              "        vertical-align: top;\n",
              "    }\n",
              "\n",
              "    .dataframe thead th {\n",
              "        text-align: right;\n",
              "    }\n",
              "</style>\n",
              "<table border=\"1\" class=\"dataframe\">\n",
              "  <thead>\n",
              "    <tr style=\"text-align: right;\">\n",
              "      <th></th>\n",
              "      <th>sentence</th>\n",
              "      <th>emotion</th>\n",
              "    </tr>\n",
              "  </thead>\n",
              "  <tbody>\n",
              "    <tr>\n",
              "      <th>100</th>\n",
              "      <td>What is the matter with you ?</td>\n",
              "      <td>1</td>\n",
              "    </tr>\n",
              "    <tr>\n",
              "      <th>101</th>\n",
              "      <td>Ah , yes ! ' I had a migraine , your Majesty .</td>\n",
              "      <td>8</td>\n",
              "    </tr>\n",
              "    <tr>\n",
              "      <th>102</th>\n",
              "      <td>He was ... fine .</td>\n",
              "      <td>3</td>\n",
              "    </tr>\n",
              "    <tr>\n",
              "      <th>103</th>\n",
              "      <td>The best died there .</td>\n",
              "      <td>6</td>\n",
              "    </tr>\n",
              "    <tr>\n",
              "      <th>104</th>\n",
              "      <td>What the hell is going on out there , [PERSON] ?</td>\n",
              "      <td>4</td>\n",
              "    </tr>\n",
              "    <tr>\n",
              "      <th>...</th>\n",
              "      <td>...</td>\n",
              "      <td>...</td>\n",
              "    </tr>\n",
              "    <tr>\n",
              "      <th>395</th>\n",
              "      <td>This is maybe the most important case that we ...</td>\n",
              "      <td>8</td>\n",
              "    </tr>\n",
              "    <tr>\n",
              "      <th>396</th>\n",
              "      <td>You think [PERSON]'s gonna buy that ?</td>\n",
              "      <td>4</td>\n",
              "    </tr>\n",
              "    <tr>\n",
              "      <th>397</th>\n",
              "      <td>It's OK , I was thinking the same thing .</td>\n",
              "      <td>8</td>\n",
              "    </tr>\n",
              "    <tr>\n",
              "      <th>398</th>\n",
              "      <td>This is the captain speaking .</td>\n",
              "      <td>4</td>\n",
              "    </tr>\n",
              "    <tr>\n",
              "      <th>399</th>\n",
              "      <td>We ain't hungry ... not food hungry anyway .</td>\n",
              "      <td>2</td>\n",
              "    </tr>\n",
              "  </tbody>\n",
              "</table>\n",
              "<p>300 rows × 2 columns</p>\n",
              "</div>\n",
              "      <button class=\"colab-df-convert\" onclick=\"convertToInteractive('df-ef8a435d-fd02-4220-b01d-c36597c49d5f')\"\n",
              "              title=\"Convert this dataframe to an interactive table.\"\n",
              "              style=\"display:none;\">\n",
              "        \n",
              "  <svg xmlns=\"http://www.w3.org/2000/svg\" height=\"24px\"viewBox=\"0 0 24 24\"\n",
              "       width=\"24px\">\n",
              "    <path d=\"M0 0h24v24H0V0z\" fill=\"none\"/>\n",
              "    <path d=\"M18.56 5.44l.94 2.06.94-2.06 2.06-.94-2.06-.94-.94-2.06-.94 2.06-2.06.94zm-11 1L8.5 8.5l.94-2.06 2.06-.94-2.06-.94L8.5 2.5l-.94 2.06-2.06.94zm10 10l.94 2.06.94-2.06 2.06-.94-2.06-.94-.94-2.06-.94 2.06-2.06.94z\"/><path d=\"M17.41 7.96l-1.37-1.37c-.4-.4-.92-.59-1.43-.59-.52 0-1.04.2-1.43.59L10.3 9.45l-7.72 7.72c-.78.78-.78 2.05 0 2.83L4 21.41c.39.39.9.59 1.41.59.51 0 1.02-.2 1.41-.59l7.78-7.78 2.81-2.81c.8-.78.8-2.07 0-2.86zM5.41 20L4 18.59l7.72-7.72 1.47 1.35L5.41 20z\"/>\n",
              "  </svg>\n",
              "      </button>\n",
              "      \n",
              "  <style>\n",
              "    .colab-df-container {\n",
              "      display:flex;\n",
              "      flex-wrap:wrap;\n",
              "      gap: 12px;\n",
              "    }\n",
              "\n",
              "    .colab-df-convert {\n",
              "      background-color: #E8F0FE;\n",
              "      border: none;\n",
              "      border-radius: 50%;\n",
              "      cursor: pointer;\n",
              "      display: none;\n",
              "      fill: #1967D2;\n",
              "      height: 32px;\n",
              "      padding: 0 0 0 0;\n",
              "      width: 32px;\n",
              "    }\n",
              "\n",
              "    .colab-df-convert:hover {\n",
              "      background-color: #E2EBFA;\n",
              "      box-shadow: 0px 1px 2px rgba(60, 64, 67, 0.3), 0px 1px 3px 1px rgba(60, 64, 67, 0.15);\n",
              "      fill: #174EA6;\n",
              "    }\n",
              "\n",
              "    [theme=dark] .colab-df-convert {\n",
              "      background-color: #3B4455;\n",
              "      fill: #D2E3FC;\n",
              "    }\n",
              "\n",
              "    [theme=dark] .colab-df-convert:hover {\n",
              "      background-color: #434B5C;\n",
              "      box-shadow: 0px 1px 3px 1px rgba(0, 0, 0, 0.15);\n",
              "      filter: drop-shadow(0px 1px 2px rgba(0, 0, 0, 0.3));\n",
              "      fill: #FFFFFF;\n",
              "    }\n",
              "  </style>\n",
              "\n",
              "      <script>\n",
              "        const buttonEl =\n",
              "          document.querySelector('#df-ef8a435d-fd02-4220-b01d-c36597c49d5f button.colab-df-convert');\n",
              "        buttonEl.style.display =\n",
              "          google.colab.kernel.accessAllowed ? 'block' : 'none';\n",
              "\n",
              "        async function convertToInteractive(key) {\n",
              "          const element = document.querySelector('#df-ef8a435d-fd02-4220-b01d-c36597c49d5f');\n",
              "          const dataTable =\n",
              "            await google.colab.kernel.invokeFunction('convertToInteractive',\n",
              "                                                     [key], {});\n",
              "          if (!dataTable) return;\n",
              "\n",
              "          const docLinkHtml = 'Like what you see? Visit the ' +\n",
              "            '<a target=\"_blank\" href=https://colab.research.google.com/notebooks/data_table.ipynb>data table notebook</a>'\n",
              "            + ' to learn more about interactive tables.';\n",
              "          element.innerHTML = '';\n",
              "          dataTable['output_type'] = 'display_data';\n",
              "          await google.colab.output.renderOutput(dataTable, element);\n",
              "          const docLink = document.createElement('div');\n",
              "          docLink.innerHTML = docLinkHtml;\n",
              "          element.appendChild(docLink);\n",
              "        }\n",
              "      </script>\n",
              "    </div>\n",
              "  </div>\n",
              "  "
            ]
          },
          "metadata": {},
          "execution_count": 206
        }
      ],
      "source": [
        "df_train[100:400]"
      ]
    },
    {
      "cell_type": "code",
      "execution_count": 207,
      "id": "0f20753c",
      "metadata": {
        "colab": {
          "base_uri": "https://localhost:8080/"
        },
        "id": "0f20753c",
        "outputId": "d5c6c2e5-dd3f-444f-903b-74ea2f8d3ea0"
      },
      "outputs": [
        {
          "output_type": "execute_result",
          "data": {
            "text/plain": [
              "sentence    0\n",
              "emotion     0\n",
              "dtype: int64"
            ]
          },
          "metadata": {},
          "execution_count": 207
        }
      ],
      "source": [
        "# Check for empty cells\n",
        "\n",
        "\"\"\"\"\"\n",
        "Avaliar a necessidade de filtrar sentences vazias\n",
        "\"\"\"\"\"\n",
        "\n",
        "df_train.isnull().sum()"
      ]
    },
    {
      "cell_type": "code",
      "execution_count": 208,
      "id": "571dd4c7",
      "metadata": {
        "colab": {
          "base_uri": "https://localhost:8080/"
        },
        "id": "571dd4c7",
        "outputId": "1ada2706-1c15-4e7d-ba27-8ea60e7d745f"
      },
      "outputs": [
        {
          "output_type": "execute_result",
          "data": {
            "text/plain": [
              "1    2999\n",
              "2    2129\n",
              "8    2095\n",
              "5    1470\n",
              "4    1442\n",
              "6    1384\n",
              "3    1343\n",
              "7    1138\n",
              "Name: emotion, dtype: int64"
            ]
          },
          "metadata": {},
          "execution_count": 208
        }
      ],
      "source": [
        "# Check emotion frequency\n",
        "df_train.emotion.value_counts()"
      ]
    },
    {
      "cell_type": "code",
      "execution_count": 209,
      "id": "3e9f9ae8",
      "metadata": {
        "id": "3e9f9ae8"
      },
      "outputs": [],
      "source": [
        "from tqdm import tqdm_notebook as tqdm\n",
        "def label_counter(df, field):\n",
        "    \"\"\"\n",
        "    ???????????\n",
        "    \"\"\"\n",
        "    return df[field].value_counts()"
      ]
    },
    {
      "cell_type": "code",
      "execution_count": 210,
      "id": "8850a373",
      "metadata": {
        "colab": {
          "base_uri": "https://localhost:8080/"
        },
        "id": "8850a373",
        "outputId": "1a454fbb-2a0a-4919-ba97-d1fa0911c025"
      },
      "outputs": [
        {
          "output_type": "execute_result",
          "data": {
            "text/plain": [
              "1    2999\n",
              "2    2129\n",
              "8    2095\n",
              "5    1470\n",
              "4    1442\n",
              "6    1384\n",
              "3    1343\n",
              "7    1138\n",
              "Name: emotion, dtype: int64"
            ]
          },
          "metadata": {},
          "execution_count": 210
        }
      ],
      "source": [
        "label_counter(df_train, \"emotion\")"
      ]
    },
    {
      "cell_type": "code",
      "execution_count": 211,
      "id": "2b0792a8",
      "metadata": {
        "id": "2b0792a8"
      },
      "outputs": [],
      "source": [
        "# Word Count\n",
        "def word_count(text):\n",
        "    \"\"\"\n",
        "    Function that counts text words\n",
        "    \"\"\"\n",
        "    df_words = \" \".join(text).split()\n",
        "    # Count all words \n",
        "    freq = pd.Series(df_words).value_counts()\n",
        "    return freq"
      ]
    },
    {
      "cell_type": "code",
      "execution_count": 212,
      "id": "07bcd712",
      "metadata": {
        "colab": {
          "base_uri": "https://localhost:8080/"
        },
        "id": "07bcd712",
        "outputId": "d8fea545-e4be-46a9-a992-a7331130c315"
      },
      "outputs": [
        {
          "output_type": "execute_result",
          "data": {
            "text/plain": [
              ".           10600\n",
              ",            5738\n",
              "you          3502\n",
              "I            3208\n",
              "to           2862\n",
              "the          2703\n",
              "?            2696\n",
              "a            2320\n",
              "!            1608\n",
              "[PERSON]     1386\n",
              "of           1358\n",
              "and          1266\n",
              "me           1195\n",
              "it           1193\n",
              "that         1156\n",
              "in           1083\n",
              "You           950\n",
              "is            902\n",
              "for           847\n",
              "be            761\n",
              "this          757\n",
              "I'm           738\n",
              "have          727\n",
              "your          690\n",
              "my            678\n",
              "dtype: int64"
            ]
          },
          "metadata": {},
          "execution_count": 212
        }
      ],
      "source": [
        "word_count(list(df_train['sentence']))[:25]"
      ]
    },
    {
      "cell_type": "code",
      "execution_count": 213,
      "id": "8343951c",
      "metadata": {
        "id": "8343951c"
      },
      "outputs": [],
      "source": [
        "#### Preprocessing"
      ]
    },
    {
      "cell_type": "code",
      "execution_count": 214,
      "id": "084efd64",
      "metadata": {
        "colab": {
          "base_uri": "https://localhost:8080/"
        },
        "id": "084efd64",
        "outputId": "7e7266ee-5d8e-4f5d-cef1-9685f398e70f"
      },
      "outputs": [
        {
          "output_type": "stream",
          "name": "stdout",
          "text": [
            "[nltk_data] Downloading package wordnet to /root/nltk_data...\n",
            "[nltk_data]   Package wordnet is already up-to-date!\n",
            "[nltk_data] Downloading package stopwords to /root/nltk_data...\n",
            "[nltk_data]   Package stopwords is already up-to-date!\n"
          ]
        }
      ],
      "source": [
        "import re\n",
        "import nltk\n",
        "import string\n",
        "from nltk.corpus import stopwords\n",
        "from nltk.stem.wordnet import WordNetLemmatizer\n",
        "from bs4 import BeautifulSoup\n",
        "from tqdm import tqdm_notebook as tqdm\n",
        "from nltk.stem.snowball import SnowballStemmer\n",
        "from nltk.tokenize import word_tokenize\n",
        "from nltk.corpus import wordnet\n",
        "from bs4 import BeautifulSoup\n",
        "\n",
        "nltk.download('wordnet')\n",
        "nltk.download('stopwords')\n",
        "\n",
        "stop = set(stopwords.words('english'))\n",
        "exclude = set(string.punctuation)\n",
        "lemma = WordNetLemmatizer()\n",
        "stem = SnowballStemmer(\"english\")"
      ]
    },
    {
      "cell_type": "code",
      "execution_count": 215,
      "id": "1d5c8611",
      "metadata": {
        "id": "1d5c8611"
      },
      "outputs": [],
      "source": [
        "def clean(text_in, lemmatize, stemmer):\n",
        "    \"\"\"\n",
        "    Preprocessing Function  will consist of   \n",
        "    - make everything lowercased\n",
        "    - removing all symbols that are not letters\n",
        "    - remove stopwords\n",
        "    - replace words with the corresponding lemma\n",
        "\n",
        "    \"\"\"\n",
        "    updates = []\n",
        "    for j in tqdm(range(len(text_in))):\n",
        "        \n",
        "        text = text_in[j]\n",
        "        \n",
        "        #make everything lowercased\n",
        "        text = text.lower()      \n",
        "          \n",
        "        #removing all symbols that are not letters\n",
        "        text = re.sub(\"[^a-zA-Z]\", ' ', text)\n",
        "            \n",
        "        #remove stopwords -- TO REMOVE \n",
        "        # text = ' '.join([word for word in text.split() if word not in stop])\n",
        "        \n",
        "        #replace words with the corresponding lemma\n",
        "        text = BeautifulSoup(text).get_text()\n",
        "        \n",
        "        if lemmatize:\n",
        "            text = \" \".join(lemma.lemmatize(word) for word in text.split())\n",
        "        \n",
        "        if stemmer:\n",
        "            text = \" \".join(stem.stemmer(word) for word in text.split())\n",
        "        \n",
        "        updates.append(text)\n",
        "        \n",
        "    return updates"
      ]
    },
    {
      "cell_type": "code",
      "execution_count": 216,
      "id": "7530a776",
      "metadata": {
        "id": "7530a776"
      },
      "outputs": [],
      "source": [
        "#!pip install neattext"
      ]
    },
    {
      "cell_type": "code",
      "source": [
        "# Neattext stopword removal \n",
        "import neattext.functions as nfx\n",
        "dir(nfx)"
      ],
      "metadata": {
        "colab": {
          "base_uri": "https://localhost:8080/"
        },
        "id": "4QBzQQyqzkzQ",
        "outputId": "c8e1b1ac-0bfe-4a79-d32b-ac0e8b7c4549"
      },
      "id": "4QBzQQyqzkzQ",
      "execution_count": 217,
      "outputs": [
        {
          "output_type": "execute_result",
          "data": {
            "text/plain": [
              "['BTC_ADDRESS_REGEX',\n",
              " 'CURRENCY_REGEX',\n",
              " 'CURRENCY_SYMB_REGEX',\n",
              " 'Counter',\n",
              " 'DATE_REGEX',\n",
              " 'EMAIL_REGEX',\n",
              " 'EMOJI_REGEX',\n",
              " 'HASTAG_REGEX',\n",
              " 'MASTERCard_REGEX',\n",
              " 'MD5_SHA_REGEX',\n",
              " 'MOST_COMMON_PUNCT_REGEX',\n",
              " 'NUMBERS_REGEX',\n",
              " 'PHONE_REGEX',\n",
              " 'PoBOX_REGEX',\n",
              " 'SPECIAL_CHARACTERS_REGEX',\n",
              " 'STOPWORDS',\n",
              " 'STOPWORDS_de',\n",
              " 'STOPWORDS_en',\n",
              " 'STOPWORDS_es',\n",
              " 'STOPWORDS_fr',\n",
              " 'STOPWORDS_ru',\n",
              " 'STOPWORDS_yo',\n",
              " 'STREET_ADDRESS_REGEX',\n",
              " 'TextFrame',\n",
              " 'URL_PATTERN',\n",
              " 'USER_HANDLES_REGEX',\n",
              " 'VISACard_REGEX',\n",
              " '__builtins__',\n",
              " '__cached__',\n",
              " '__doc__',\n",
              " '__file__',\n",
              " '__generate_text',\n",
              " '__loader__',\n",
              " '__name__',\n",
              " '__numbers_dict',\n",
              " '__package__',\n",
              " '__spec__',\n",
              " '_lex_richness_herdan',\n",
              " '_lex_richness_maas_ttr',\n",
              " 'clean_text',\n",
              " 'defaultdict',\n",
              " 'digit2words',\n",
              " 'extract_btc_address',\n",
              " 'extract_currencies',\n",
              " 'extract_currency_symbols',\n",
              " 'extract_dates',\n",
              " 'extract_emails',\n",
              " 'extract_emojis',\n",
              " 'extract_hashtags',\n",
              " 'extract_html_tags',\n",
              " 'extract_mastercard_addr',\n",
              " 'extract_md5sha',\n",
              " 'extract_numbers',\n",
              " 'extract_pattern',\n",
              " 'extract_phone_numbers',\n",
              " 'extract_postoffice_box',\n",
              " 'extract_shortwords',\n",
              " 'extract_special_characters',\n",
              " 'extract_stopwords',\n",
              " 'extract_street_address',\n",
              " 'extract_terms_in_bracket',\n",
              " 'extract_urls',\n",
              " 'extract_userhandles',\n",
              " 'extract_visacard_addr',\n",
              " 'fix_contractions',\n",
              " 'generate_sentence',\n",
              " 'hamming_distance',\n",
              " 'inverse_df',\n",
              " 'lexical_richness',\n",
              " 'markov_chain',\n",
              " 'math',\n",
              " 'nlargest',\n",
              " 'normalize',\n",
              " 'num2words',\n",
              " 'random',\n",
              " 're',\n",
              " 'read_txt',\n",
              " 'remove_accents',\n",
              " 'remove_bad_quotes',\n",
              " 'remove_btc_address',\n",
              " 'remove_currencies',\n",
              " 'remove_currency_symbols',\n",
              " 'remove_custom_pattern',\n",
              " 'remove_custom_words',\n",
              " 'remove_dates',\n",
              " 'remove_emails',\n",
              " 'remove_emojis',\n",
              " 'remove_hashtags',\n",
              " 'remove_html_tags',\n",
              " 'remove_mastercard_addr',\n",
              " 'remove_md5sha',\n",
              " 'remove_multiple_spaces',\n",
              " 'remove_non_ascii',\n",
              " 'remove_numbers',\n",
              " 'remove_phone_numbers',\n",
              " 'remove_postoffice_box',\n",
              " 'remove_puncts',\n",
              " 'remove_punctuations',\n",
              " 'remove_shortwords',\n",
              " 'remove_special_characters',\n",
              " 'remove_stopwords',\n",
              " 'remove_street_address',\n",
              " 'remove_terms_in_bracket',\n",
              " 'remove_urls',\n",
              " 'remove_userhandles',\n",
              " 'remove_visacard_addr',\n",
              " 'replace_bad_quotes',\n",
              " 'replace_currencies',\n",
              " 'replace_currency_symbols',\n",
              " 'replace_dates',\n",
              " 'replace_emails',\n",
              " 'replace_emojis',\n",
              " 'replace_numbers',\n",
              " 'replace_phone_numbers',\n",
              " 'replace_special_characters',\n",
              " 'replace_term',\n",
              " 'replace_urls',\n",
              " 'string',\n",
              " 'term_freq',\n",
              " 'to_txt',\n",
              " 'unicodedata',\n",
              " 'word_freq',\n",
              " 'word_length_freq']"
            ]
          },
          "metadata": {},
          "execution_count": 217
        }
      ]
    },
    {
      "cell_type": "code",
      "source": [
        "#df_train['sentence'] = df_train['sentence'].apply(nfx.remove_stopwords)\n",
        "#df_train['sentence'] = df_train['sentence'].apply(nfx.remove_punctuations)\n",
        "#df_train['sentence'] = df_train['sentence'].apply(nfx.remove_special_characters)\n",
        "#df_train.head()\n"
      ],
      "metadata": {
        "id": "OcsdEaEp05zB"
      },
      "id": "OcsdEaEp05zB",
      "execution_count": 218,
      "outputs": []
    },
    {
      "cell_type": "code",
      "source": [
        "def update_df(dataframe, list_updated):\n",
        "    dataframe.update(pd.DataFrame({\"sentence\": list_updated}))\n",
        "\n",
        "\n",
        "updates = clean(df_train[\"sentence\"], lemmatize = True, stemmer = False)\n",
        "update_df(df_train, updates)\n",
        "df_train.head()"
      ],
      "metadata": {
        "colab": {
          "base_uri": "https://localhost:8080/",
          "height": 293,
          "referenced_widgets": [
            "441d275891194881b2588a3f4ac25831",
            "14011e48faa5472b830a9ef74c63afc4",
            "d04118cf002347f4a2eb128e22708412",
            "36f86d3f2d904014ad99ce628a1b5f6f",
            "588eff08b7e3403bbdc55e22c73eba2e",
            "551a3fd5148f458a80b80708fbbe58b0",
            "b36f7fb189f7482b88ed8a496b6105a7",
            "7560dbddf40744ffbffb315b8effe9f6",
            "02fa67c55a924bd98b3c0030fbec6acd",
            "e8e8e000799a412d91afbebc298e2def",
            "30680eda038342a4b5894f2d912b14de"
          ]
        },
        "id": "RymqEbF4zk8s",
        "outputId": "d0a6e3e2-bb23-4047-cef0-813a99170602"
      },
      "id": "RymqEbF4zk8s",
      "execution_count": 219,
      "outputs": [
        {
          "output_type": "stream",
          "name": "stderr",
          "text": [
            "/usr/local/lib/python3.7/dist-packages/ipykernel_launcher.py:11: TqdmDeprecationWarning: This function will be removed in tqdm==5.0.0\n",
            "Please use `tqdm.notebook.tqdm` instead of `tqdm.tqdm_notebook`\n",
            "  # This is added back by InteractiveShellApp.init_path()\n"
          ]
        },
        {
          "output_type": "display_data",
          "data": {
            "text/plain": [
              "  0%|          | 0/14000 [00:00<?, ?it/s]"
            ],
            "application/vnd.jupyter.widget-view+json": {
              "version_major": 2,
              "version_minor": 0,
              "model_id": "441d275891194881b2588a3f4ac25831"
            }
          },
          "metadata": {}
        },
        {
          "output_type": "execute_result",
          "data": {
            "text/plain": [
              "                                            sentence  emotion\n",
              "0                        i m too old to be traded in        6\n",
              "1  mother said you could always tell a lady by he...        8\n",
              "2     i always said i d leave off when the time came        6\n",
              "3                              he ll be safe with me        2\n",
              "4                                            lay off        1"
            ],
            "text/html": [
              "\n",
              "  <div id=\"df-868d1514-101e-4985-9b7e-ac210cca27a3\">\n",
              "    <div class=\"colab-df-container\">\n",
              "      <div>\n",
              "<style scoped>\n",
              "    .dataframe tbody tr th:only-of-type {\n",
              "        vertical-align: middle;\n",
              "    }\n",
              "\n",
              "    .dataframe tbody tr th {\n",
              "        vertical-align: top;\n",
              "    }\n",
              "\n",
              "    .dataframe thead th {\n",
              "        text-align: right;\n",
              "    }\n",
              "</style>\n",
              "<table border=\"1\" class=\"dataframe\">\n",
              "  <thead>\n",
              "    <tr style=\"text-align: right;\">\n",
              "      <th></th>\n",
              "      <th>sentence</th>\n",
              "      <th>emotion</th>\n",
              "    </tr>\n",
              "  </thead>\n",
              "  <tbody>\n",
              "    <tr>\n",
              "      <th>0</th>\n",
              "      <td>i m too old to be traded in</td>\n",
              "      <td>6</td>\n",
              "    </tr>\n",
              "    <tr>\n",
              "      <th>1</th>\n",
              "      <td>mother said you could always tell a lady by he...</td>\n",
              "      <td>8</td>\n",
              "    </tr>\n",
              "    <tr>\n",
              "      <th>2</th>\n",
              "      <td>i always said i d leave off when the time came</td>\n",
              "      <td>6</td>\n",
              "    </tr>\n",
              "    <tr>\n",
              "      <th>3</th>\n",
              "      <td>he ll be safe with me</td>\n",
              "      <td>2</td>\n",
              "    </tr>\n",
              "    <tr>\n",
              "      <th>4</th>\n",
              "      <td>lay off</td>\n",
              "      <td>1</td>\n",
              "    </tr>\n",
              "  </tbody>\n",
              "</table>\n",
              "</div>\n",
              "      <button class=\"colab-df-convert\" onclick=\"convertToInteractive('df-868d1514-101e-4985-9b7e-ac210cca27a3')\"\n",
              "              title=\"Convert this dataframe to an interactive table.\"\n",
              "              style=\"display:none;\">\n",
              "        \n",
              "  <svg xmlns=\"http://www.w3.org/2000/svg\" height=\"24px\"viewBox=\"0 0 24 24\"\n",
              "       width=\"24px\">\n",
              "    <path d=\"M0 0h24v24H0V0z\" fill=\"none\"/>\n",
              "    <path d=\"M18.56 5.44l.94 2.06.94-2.06 2.06-.94-2.06-.94-.94-2.06-.94 2.06-2.06.94zm-11 1L8.5 8.5l.94-2.06 2.06-.94-2.06-.94L8.5 2.5l-.94 2.06-2.06.94zm10 10l.94 2.06.94-2.06 2.06-.94-2.06-.94-.94-2.06-.94 2.06-2.06.94z\"/><path d=\"M17.41 7.96l-1.37-1.37c-.4-.4-.92-.59-1.43-.59-.52 0-1.04.2-1.43.59L10.3 9.45l-7.72 7.72c-.78.78-.78 2.05 0 2.83L4 21.41c.39.39.9.59 1.41.59.51 0 1.02-.2 1.41-.59l7.78-7.78 2.81-2.81c.8-.78.8-2.07 0-2.86zM5.41 20L4 18.59l7.72-7.72 1.47 1.35L5.41 20z\"/>\n",
              "  </svg>\n",
              "      </button>\n",
              "      \n",
              "  <style>\n",
              "    .colab-df-container {\n",
              "      display:flex;\n",
              "      flex-wrap:wrap;\n",
              "      gap: 12px;\n",
              "    }\n",
              "\n",
              "    .colab-df-convert {\n",
              "      background-color: #E8F0FE;\n",
              "      border: none;\n",
              "      border-radius: 50%;\n",
              "      cursor: pointer;\n",
              "      display: none;\n",
              "      fill: #1967D2;\n",
              "      height: 32px;\n",
              "      padding: 0 0 0 0;\n",
              "      width: 32px;\n",
              "    }\n",
              "\n",
              "    .colab-df-convert:hover {\n",
              "      background-color: #E2EBFA;\n",
              "      box-shadow: 0px 1px 2px rgba(60, 64, 67, 0.3), 0px 1px 3px 1px rgba(60, 64, 67, 0.15);\n",
              "      fill: #174EA6;\n",
              "    }\n",
              "\n",
              "    [theme=dark] .colab-df-convert {\n",
              "      background-color: #3B4455;\n",
              "      fill: #D2E3FC;\n",
              "    }\n",
              "\n",
              "    [theme=dark] .colab-df-convert:hover {\n",
              "      background-color: #434B5C;\n",
              "      box-shadow: 0px 1px 3px 1px rgba(0, 0, 0, 0.15);\n",
              "      filter: drop-shadow(0px 1px 2px rgba(0, 0, 0, 0.3));\n",
              "      fill: #FFFFFF;\n",
              "    }\n",
              "  </style>\n",
              "\n",
              "      <script>\n",
              "        const buttonEl =\n",
              "          document.querySelector('#df-868d1514-101e-4985-9b7e-ac210cca27a3 button.colab-df-convert');\n",
              "        buttonEl.style.display =\n",
              "          google.colab.kernel.accessAllowed ? 'block' : 'none';\n",
              "\n",
              "        async function convertToInteractive(key) {\n",
              "          const element = document.querySelector('#df-868d1514-101e-4985-9b7e-ac210cca27a3');\n",
              "          const dataTable =\n",
              "            await google.colab.kernel.invokeFunction('convertToInteractive',\n",
              "                                                     [key], {});\n",
              "          if (!dataTable) return;\n",
              "\n",
              "          const docLinkHtml = 'Like what you see? Visit the ' +\n",
              "            '<a target=\"_blank\" href=https://colab.research.google.com/notebooks/data_table.ipynb>data table notebook</a>'\n",
              "            + ' to learn more about interactive tables.';\n",
              "          element.innerHTML = '';\n",
              "          dataTable['output_type'] = 'display_data';\n",
              "          await google.colab.output.renderOutput(dataTable, element);\n",
              "          const docLink = document.createElement('div');\n",
              "          docLink.innerHTML = docLinkHtml;\n",
              "          element.appendChild(docLink);\n",
              "        }\n",
              "      </script>\n",
              "    </div>\n",
              "  </div>\n",
              "  "
            ]
          },
          "metadata": {},
          "execution_count": 219
        }
      ]
    },
    {
      "cell_type": "code",
      "execution_count": 220,
      "id": "8093d419",
      "metadata": {
        "id": "8093d419",
        "scrolled": false
      },
      "outputs": [],
      "source": [
        "# Word count clean dataframe\n",
        "#word_count(df_train['sentence'])[:20]"
      ]
    },
    {
      "cell_type": "markdown",
      "id": "MtAJJDCOesIJ",
      "metadata": {
        "id": "MtAJJDCOesIJ"
      },
      "source": [
        "# -------------------------------------------------------------------\n",
        "## Bert Claf1 with Tensorflow - Def Clean + NeatText"
      ]
    },
    {
      "cell_type": "code",
      "execution_count": 221,
      "id": "jN9CpniJfHx_",
      "metadata": {
        "id": "jN9CpniJfHx_"
      },
      "outputs": [],
      "source": [
        "#!pip install transformers"
      ]
    },
    {
      "cell_type": "code",
      "execution_count": 222,
      "id": "ei2CUo6ce0j1",
      "metadata": {
        "id": "ei2CUo6ce0j1"
      },
      "outputs": [],
      "source": [
        "import pandas as pd\n",
        "import numpy as np\n",
        "from tqdm.auto import tqdm\n",
        "import tensorflow as tf\n",
        "from transformers import BertTokenizer"
      ]
    },
    {
      "cell_type": "code",
      "source": [
        "import numpy as np\n",
        "import matplotlib.pyplot as plt\n",
        "plt.style.use('ggplot')\n",
        "\n",
        "\n",
        "num_classes = len(df_train[\"emotion\"].value_counts())\n",
        "\n",
        "colors = plt.cm.Dark2(np.linspace(0, 1, num_classes))\n",
        "iter_color = iter(colors)\n",
        "\n",
        "df_train['emotion'].value_counts().plot.barh(title=\"Reviews for each topic (n, %)\", \n",
        "                                                 ylabel=\"Topics\",\n",
        "                                                 color=colors,\n",
        "                                                 figsize=(9,9))\n",
        "\n",
        "for i, v in enumerate(df_train['emotion'].value_counts()):\n",
        "  c = next(iter_color)\n",
        "  plt.text(v, i,\n",
        "           \" \"+str(v)+\", \"+str(round(v*100/df_train.shape[0],2))+\"%\", \n",
        "           color=c, \n",
        "           va='center', \n",
        "           fontweight='bold')\n",
        "  \n"
      ],
      "metadata": {
        "colab": {
          "base_uri": "https://localhost:8080/",
          "height": 554
        },
        "id": "jiU-UYwbSel8",
        "outputId": "b662a49a-8049-4d4b-8e3b-86606f1e696b"
      },
      "id": "jiU-UYwbSel8",
      "execution_count": 223,
      "outputs": [
        {
          "output_type": "display_data",
          "data": {
            "text/plain": [
              "<Figure size 648x648 with 1 Axes>"
            ],
            "image/png": "[encoded data removed]"
          },
          "metadata": {}
        }
      ]
    },
    {
      "cell_type": "code",
      "source": [
        "  # map topic descriptions to labels\n",
        "df_train['Labels'] = df_train['emotion'].map({1: 0,\n",
        "                                            2: 1,\n",
        "                                            3: 2,\n",
        "                                            4: 3,\n",
        "                                            5: 4,\n",
        "                                            6: 5,\n",
        "                                            7: 6,\n",
        "                                            8: 7})\n",
        "\n",
        "# drop unused column\n",
        "df_train = df_train.drop([\"emotion\"], axis=1)\n",
        "\n",
        "df_train.head()"
      ],
      "metadata": {
        "colab": {
          "base_uri": "https://localhost:8080/",
          "height": 206
        },
        "id": "wQJQZUTGSeo8",
        "outputId": "d7fb4e28-7c89-4f50-f238-70089c0dbed7"
      },
      "id": "wQJQZUTGSeo8",
      "execution_count": 224,
      "outputs": [
        {
          "output_type": "execute_result",
          "data": {
            "text/plain": [
              "                                            sentence  Labels\n",
              "0                        i m too old to be traded in       5\n",
              "1  mother said you could always tell a lady by he...       7\n",
              "2     i always said i d leave off when the time came       5\n",
              "3                              he ll be safe with me       1\n",
              "4                                            lay off       0"
            ],
            "text/html": [
              "\n",
              "  <div id=\"df-1bf04cde-aed0-46b2-be73-38a44ee8b083\">\n",
              "    <div class=\"colab-df-container\">\n",
              "      <div>\n",
              "<style scoped>\n",
              "    .dataframe tbody tr th:only-of-type {\n",
              "        vertical-align: middle;\n",
              "    }\n",
              "\n",
              "    .dataframe tbody tr th {\n",
              "        vertical-align: top;\n",
              "    }\n",
              "\n",
              "    .dataframe thead th {\n",
              "        text-align: right;\n",
              "    }\n",
              "</style>\n",
              "<table border=\"1\" class=\"dataframe\">\n",
              "  <thead>\n",
              "    <tr style=\"text-align: right;\">\n",
              "      <th></th>\n",
              "      <th>sentence</th>\n",
              "      <th>Labels</th>\n",
              "    </tr>\n",
              "  </thead>\n",
              "  <tbody>\n",
              "    <tr>\n",
              "      <th>0</th>\n",
              "      <td>i m too old to be traded in</td>\n",
              "      <td>5</td>\n",
              "    </tr>\n",
              "    <tr>\n",
              "      <th>1</th>\n",
              "      <td>mother said you could always tell a lady by he...</td>\n",
              "      <td>7</td>\n",
              "    </tr>\n",
              "    <tr>\n",
              "      <th>2</th>\n",
              "      <td>i always said i d leave off when the time came</td>\n",
              "      <td>5</td>\n",
              "    </tr>\n",
              "    <tr>\n",
              "      <th>3</th>\n",
              "      <td>he ll be safe with me</td>\n",
              "      <td>1</td>\n",
              "    </tr>\n",
              "    <tr>\n",
              "      <th>4</th>\n",
              "      <td>lay off</td>\n",
              "      <td>0</td>\n",
              "    </tr>\n",
              "  </tbody>\n",
              "</table>\n",
              "</div>\n",
              "      <button class=\"colab-df-convert\" onclick=\"convertToInteractive('df-1bf04cde-aed0-46b2-be73-38a44ee8b083')\"\n",
              "              title=\"Convert this dataframe to an interactive table.\"\n",
              "              style=\"display:none;\">\n",
              "        \n",
              "  <svg xmlns=\"http://www.w3.org/2000/svg\" height=\"24px\"viewBox=\"0 0 24 24\"\n",
              "       width=\"24px\">\n",
              "    <path d=\"M0 0h24v24H0V0z\" fill=\"none\"/>\n",
              "    <path d=\"M18.56 5.44l.94 2.06.94-2.06 2.06-.94-2.06-.94-.94-2.06-.94 2.06-2.06.94zm-11 1L8.5 8.5l.94-2.06 2.06-.94-2.06-.94L8.5 2.5l-.94 2.06-2.06.94zm10 10l.94 2.06.94-2.06 2.06-.94-2.06-.94-.94-2.06-.94 2.06-2.06.94z\"/><path d=\"M17.41 7.96l-1.37-1.37c-.4-.4-.92-.59-1.43-.59-.52 0-1.04.2-1.43.59L10.3 9.45l-7.72 7.72c-.78.78-.78 2.05 0 2.83L4 21.41c.39.39.9.59 1.41.59.51 0 1.02-.2 1.41-.59l7.78-7.78 2.81-2.81c.8-.78.8-2.07 0-2.86zM5.41 20L4 18.59l7.72-7.72 1.47 1.35L5.41 20z\"/>\n",
              "  </svg>\n",
              "      </button>\n",
              "      \n",
              "  <style>\n",
              "    .colab-df-container {\n",
              "      display:flex;\n",
              "      flex-wrap:wrap;\n",
              "      gap: 12px;\n",
              "    }\n",
              "\n",
              "    .colab-df-convert {\n",
              "      background-color: #E8F0FE;\n",
              "      border: none;\n",
              "      border-radius: 50%;\n",
              "      cursor: pointer;\n",
              "      display: none;\n",
              "      fill: #1967D2;\n",
              "      height: 32px;\n",
              "      padding: 0 0 0 0;\n",
              "      width: 32px;\n",
              "    }\n",
              "\n",
              "    .colab-df-convert:hover {\n",
              "      background-color: #E2EBFA;\n",
              "      box-shadow: 0px 1px 2px rgba(60, 64, 67, 0.3), 0px 1px 3px 1px rgba(60, 64, 67, 0.15);\n",
              "      fill: #174EA6;\n",
              "    }\n",
              "\n",
              "    [theme=dark] .colab-df-convert {\n",
              "      background-color: #3B4455;\n",
              "      fill: #D2E3FC;\n",
              "    }\n",
              "\n",
              "    [theme=dark] .colab-df-convert:hover {\n",
              "      background-color: #434B5C;\n",
              "      box-shadow: 0px 1px 3px 1px rgba(0, 0, 0, 0.15);\n",
              "      filter: drop-shadow(0px 1px 2px rgba(0, 0, 0, 0.3));\n",
              "      fill: #FFFFFF;\n",
              "    }\n",
              "  </style>\n",
              "\n",
              "      <script>\n",
              "        const buttonEl =\n",
              "          document.querySelector('#df-1bf04cde-aed0-46b2-be73-38a44ee8b083 button.colab-df-convert');\n",
              "        buttonEl.style.display =\n",
              "          google.colab.kernel.accessAllowed ? 'block' : 'none';\n",
              "\n",
              "        async function convertToInteractive(key) {\n",
              "          const element = document.querySelector('#df-1bf04cde-aed0-46b2-be73-38a44ee8b083');\n",
              "          const dataTable =\n",
              "            await google.colab.kernel.invokeFunction('convertToInteractive',\n",
              "                                                     [key], {});\n",
              "          if (!dataTable) return;\n",
              "\n",
              "          const docLinkHtml = 'Like what you see? Visit the ' +\n",
              "            '<a target=\"_blank\" href=https://colab.research.google.com/notebooks/data_table.ipynb>data table notebook</a>'\n",
              "            + ' to learn more about interactive tables.';\n",
              "          element.innerHTML = '';\n",
              "          dataTable['output_type'] = 'display_data';\n",
              "          await google.colab.output.renderOutput(dataTable, element);\n",
              "          const docLink = document.createElement('div');\n",
              "          docLink.innerHTML = docLinkHtml;\n",
              "          element.appendChild(docLink);\n",
              "        }\n",
              "      </script>\n",
              "    </div>\n",
              "  </div>\n",
              "  "
            ]
          },
          "metadata": {},
          "execution_count": 224
        }
      ]
    },
    {
      "cell_type": "code",
      "source": [
        "import tensorflow as tf\n",
        "from sklearn.model_selection import train_test_split\n",
        "\n",
        "y = tf.keras.utils.to_categorical(df_train[\"Labels\"].values, num_classes=num_classes)\n",
        "\n",
        "\n",
        "# Try to alter test size to 0.20 to improve results \n",
        "x_train, x_test, y_train, y_test = train_test_split(df_train['sentence'], y, test_size=0.2)"
      ],
      "metadata": {
        "id": "eFLlQp6CSeuv"
      },
      "id": "eFLlQp6CSeuv",
      "execution_count": 225,
      "outputs": []
    },
    {
      "cell_type": "code",
      "source": [
        "#!pip install tensorflow_text"
      ],
      "metadata": {
        "id": "T96qx68zeHTU"
      },
      "id": "T96qx68zeHTU",
      "execution_count": 226,
      "outputs": []
    },
    {
      "cell_type": "code",
      "source": [
        "#!pip install -U tensorflow-text==2.5"
      ],
      "metadata": {
        "id": "scz_h2eJeHlF"
      },
      "id": "scz_h2eJeHlF",
      "execution_count": 227,
      "outputs": []
    },
    {
      "cell_type": "code",
      "source": [
        "#!pip install tensorflow_hub"
      ],
      "metadata": {
        "id": "D8T1yGHAeH1a"
      },
      "id": "D8T1yGHAeH1a",
      "execution_count": 228,
      "outputs": []
    },
    {
      "cell_type": "code",
      "source": [
        "#for Colab users: \n",
        "#!pip install tensorflow_text\n",
        "#!pip install -U tensorflow-text==2.5\n",
        "\n",
        "#for Colab users: \n",
        "#!pip install tensorflow_hub\n",
        "\n",
        "import tensorflow_hub as hub\n",
        "import tensorflow_text as text\n",
        "\n",
        "preprocessor = hub.KerasLayer(\"https://tfhub.dev/google/universal-sentence-encoder-cmlm/multilingual-preprocess/2\")\n",
        "encoder = hub.KerasLayer(\"https://tfhub.dev/google/universal-sentence-encoder-cmlm/multilingual-base/1\")\n"
      ],
      "metadata": {
        "id": "_hkMod68Sexl"
      },
      "id": "_hkMod68Sexl",
      "execution_count": 229,
      "outputs": []
    },
    {
      "cell_type": "code",
      "source": [
        "i = tf.keras.layers.Input(shape=(), dtype=tf.string, name='text')\n",
        "x = preprocessor(i)\n",
        "x = encoder(x)\n",
        "x = tf.keras.layers.Dropout(0.2, name=\"dropout\")(x['pooled_output'])\n",
        "x = tf.keras.layers.Dense(num_classes, activation='softmax', name=\"output\")(x)\n",
        "\n",
        "model = tf.keras.Model(i, x)"
      ],
      "metadata": {
        "id": "BIRZuEKESe2o"
      },
      "id": "BIRZuEKESe2o",
      "execution_count": 230,
      "outputs": []
    },
    {
      "cell_type": "code",
      "source": [
        "# Before fitting the model, apply pipeline to improve results\n",
        "# Making the process of training our model faster and automated, we will use a machine learning pipeline. \n",
        "# Machine learning pipelines automate the machine learning workflows such as model fitting and training.\n",
        "from sklearn.pipeline import Pipeline\n",
        "\n",
        "#  pipe_lr = Pipeline(steps=[('cv',CountVectorizer()),('lr',LogisticRegression())])"
      ],
      "metadata": {
        "id": "N4wL7JG4z7Gt"
      },
      "id": "N4wL7JG4z7Gt",
      "execution_count": 231,
      "outputs": []
    },
    {
      "cell_type": "code",
      "source": [
        "n_epochs = 20\n",
        "\n",
        "METRICS = [\n",
        "      tf.keras.metrics.CategoricalAccuracy(name=\"accuracy\")\n",
        "]\n",
        "\n",
        "earlystop_callback = tf.keras.callbacks.EarlyStopping(monitor = \"val_loss\", \n",
        "                                                      patience = 3,\n",
        "                                                      restore_best_weights = True)\n",
        "\n",
        "model.compile(optimizer = \"adam\",\n",
        "              loss = \"categorical_crossentropy\",\n",
        "              metrics = METRICS)\n",
        "\n",
        "model_fit = model.fit(x_train, \n",
        "                      y_train, \n",
        "                      epochs = n_epochs,\n",
        "                      validation_data = (x_test, y_test),\n",
        "                      callbacks = [earlystop_callback])"
      ],
      "metadata": {
        "id": "7Qx7wZ1MSe5c",
        "colab": {
          "base_uri": "https://localhost:8080/"
        },
        "outputId": "9c51a3a3-246f-41c0-febd-586bd40c9bf6"
      },
      "id": "7Qx7wZ1MSe5c",
      "execution_count": 232,
      "outputs": [
        {
          "output_type": "stream",
          "name": "stdout",
          "text": [
            "Epoch 1/20\n",
            "350/350 [==============================] - 164s 422ms/step - loss: 1.8809 - accuracy: 0.2980 - val_loss: 1.7150 - val_accuracy: 0.3461\n",
            "Epoch 2/20\n",
            "350/350 [==============================] - 147s 419ms/step - loss: 1.6745 - accuracy: 0.3842 - val_loss: 1.6000 - val_accuracy: 0.4243\n",
            "Epoch 3/20\n",
            "350/350 [==============================] - 146s 419ms/step - loss: 1.6261 - accuracy: 0.3976 - val_loss: 1.5757 - val_accuracy: 0.4311\n",
            "Epoch 4/20\n",
            "350/350 [==============================] - 146s 419ms/step - loss: 1.5817 - accuracy: 0.4210 - val_loss: 1.5633 - val_accuracy: 0.4307\n",
            "Epoch 5/20\n",
            "350/350 [==============================] - 146s 418ms/step - loss: 1.5653 - accuracy: 0.4277 - val_loss: 1.5636 - val_accuracy: 0.4379\n",
            "Epoch 6/20\n",
            "350/350 [==============================] - 146s 418ms/step - loss: 1.5580 - accuracy: 0.4289 - val_loss: 1.5494 - val_accuracy: 0.4332\n",
            "Epoch 7/20\n",
            "350/350 [==============================] - 146s 419ms/step - loss: 1.5540 - accuracy: 0.4303 - val_loss: 1.5514 - val_accuracy: 0.4336\n",
            "Epoch 8/20\n",
            "350/350 [==============================] - 146s 418ms/step - loss: 1.5535 - accuracy: 0.4305 - val_loss: 1.5474 - val_accuracy: 0.4425\n",
            "Epoch 9/20\n",
            "350/350 [==============================] - 147s 420ms/step - loss: 1.5380 - accuracy: 0.4338 - val_loss: 1.5452 - val_accuracy: 0.4446\n",
            "Epoch 10/20\n",
            "350/350 [==============================] - 146s 419ms/step - loss: 1.5397 - accuracy: 0.4371 - val_loss: 1.5528 - val_accuracy: 0.4371\n",
            "Epoch 11/20\n",
            "350/350 [==============================] - 146s 418ms/step - loss: 1.5339 - accuracy: 0.4386 - val_loss: 1.5707 - val_accuracy: 0.4268\n",
            "Epoch 12/20\n",
            "350/350 [==============================] - 146s 417ms/step - loss: 1.5277 - accuracy: 0.4393 - val_loss: 1.5532 - val_accuracy: 0.4271\n"
          ]
        }
      ]
    },
    {
      "cell_type": "code",
      "source": [
        "# plot history\n",
        "import matplotlib.pyplot as pyplot \n",
        "pyplot.plot(model_fit.history['loss'], label='train')\n",
        "pyplot.plot(model_fit.history['val_loss'], label='test')\n",
        "pyplot.legend()\n",
        "pyplot.title('Mean Squared Error between Train and Test Sets')\n",
        "pyplot.show()"
      ],
      "metadata": {
        "id": "WefZEAkFcnDH",
        "colab": {
          "base_uri": "https://localhost:8080/",
          "height": 282
        },
        "outputId": "09b99f89-6a18-4dbe-c254-3b0952142f2c"
      },
      "id": "WefZEAkFcnDH",
      "execution_count": 233,
      "outputs": [
        {
          "output_type": "display_data",
          "data": {
            "text/plain": [
              "<Figure size 432x288 with 1 Axes>"
            ],
            "image/png": "[encoded data removed]"
          },
          "metadata": {}
        }
      ]
    },
    {
      "cell_type": "code",
      "source": [
        "def predict_class(reviews):\n",
        "  '''predict class of input text\n",
        "  Args:\n",
        "    - reviews (list of strings)\n",
        "  Output:\n",
        "    - class (list of int)\n",
        "  '''\n",
        "  return [np.argmax(pred) for pred in model.predict(reviews)]\n"
      ],
      "metadata": {
        "id": "w_23GcA7Se8a"
      },
      "id": "w_23GcA7Se8a",
      "execution_count": 234,
      "outputs": []
    },
    {
      "cell_type": "markdown",
      "source": [
        "# Cleaning dev df for model predictions"
      ],
      "metadata": {
        "id": "tWxyYfbKmtk3"
      },
      "id": "tWxyYfbKmtk3"
    },
    {
      "cell_type": "code",
      "source": [
        "df_dev = pd.read_csv('https://raw.githubusercontent.com/MiguelOva/text_mining/main/dev_set.txt', delimiter = '\\t')\n",
        "df_dev.head()"
      ],
      "metadata": {
        "id": "OMu7OjEetWda",
        "colab": {
          "base_uri": "https://localhost:8080/",
          "height": 206
        },
        "outputId": "958b7c17-a4c9-4ed3-9b6e-0066b8fa39d6"
      },
      "id": "OMu7OjEetWda",
      "execution_count": 239,
      "outputs": [
        {
          "output_type": "execute_result",
          "data": {
            "text/plain": [
              "                                            sentence  emotion\n",
              "0             What happens to the gold in our safe ?        4\n",
              "1                         Natural to get cold feet .        8\n",
              "2                           Not very lucky , is he ?        7\n",
              "3  I'm just a little anxious to get up there and ...        2\n",
              "4  Did you think we don't know about your affair ...        1"
            ],
            "text/html": [
              "\n",
              "  <div id=\"df-0b618f27-7958-4d03-9d97-b1729510a508\">\n",
              "    <div class=\"colab-df-container\">\n",
              "      <div>\n",
              "<style scoped>\n",
              "    .dataframe tbody tr th:only-of-type {\n",
              "        vertical-align: middle;\n",
              "    }\n",
              "\n",
              "    .dataframe tbody tr th {\n",
              "        vertical-align: top;\n",
              "    }\n",
              "\n",
              "    .dataframe thead th {\n",
              "        text-align: right;\n",
              "    }\n",
              "</style>\n",
              "<table border=\"1\" class=\"dataframe\">\n",
              "  <thead>\n",
              "    <tr style=\"text-align: right;\">\n",
              "      <th></th>\n",
              "      <th>sentence</th>\n",
              "      <th>emotion</th>\n",
              "    </tr>\n",
              "  </thead>\n",
              "  <tbody>\n",
              "    <tr>\n",
              "      <th>0</th>\n",
              "      <td>What happens to the gold in our safe ?</td>\n",
              "      <td>4</td>\n",
              "    </tr>\n",
              "    <tr>\n",
              "      <th>1</th>\n",
              "      <td>Natural to get cold feet .</td>\n",
              "      <td>8</td>\n",
              "    </tr>\n",
              "    <tr>\n",
              "      <th>2</th>\n",
              "      <td>Not very lucky , is he ?</td>\n",
              "      <td>7</td>\n",
              "    </tr>\n",
              "    <tr>\n",
              "      <th>3</th>\n",
              "      <td>I'm just a little anxious to get up there and ...</td>\n",
              "      <td>2</td>\n",
              "    </tr>\n",
              "    <tr>\n",
              "      <th>4</th>\n",
              "      <td>Did you think we don't know about your affair ...</td>\n",
              "      <td>1</td>\n",
              "    </tr>\n",
              "  </tbody>\n",
              "</table>\n",
              "</div>\n",
              "      <button class=\"colab-df-convert\" onclick=\"convertToInteractive('df-0b618f27-7958-4d03-9d97-b1729510a508')\"\n",
              "              title=\"Convert this dataframe to an interactive table.\"\n",
              "              style=\"display:none;\">\n",
              "        \n",
              "  <svg xmlns=\"http://www.w3.org/2000/svg\" height=\"24px\"viewBox=\"0 0 24 24\"\n",
              "       width=\"24px\">\n",
              "    <path d=\"M0 0h24v24H0V0z\" fill=\"none\"/>\n",
              "    <path d=\"M18.56 5.44l.94 2.06.94-2.06 2.06-.94-2.06-.94-.94-2.06-.94 2.06-2.06.94zm-11 1L8.5 8.5l.94-2.06 2.06-.94-2.06-.94L8.5 2.5l-.94 2.06-2.06.94zm10 10l.94 2.06.94-2.06 2.06-.94-2.06-.94-.94-2.06-.94 2.06-2.06.94z\"/><path d=\"M17.41 7.96l-1.37-1.37c-.4-.4-.92-.59-1.43-.59-.52 0-1.04.2-1.43.59L10.3 9.45l-7.72 7.72c-.78.78-.78 2.05 0 2.83L4 21.41c.39.39.9.59 1.41.59.51 0 1.02-.2 1.41-.59l7.78-7.78 2.81-2.81c.8-.78.8-2.07 0-2.86zM5.41 20L4 18.59l7.72-7.72 1.47 1.35L5.41 20z\"/>\n",
              "  </svg>\n",
              "      </button>\n",
              "      \n",
              "  <style>\n",
              "    .colab-df-container {\n",
              "      display:flex;\n",
              "      flex-wrap:wrap;\n",
              "      gap: 12px;\n",
              "    }\n",
              "\n",
              "    .colab-df-convert {\n",
              "      background-color: #E8F0FE;\n",
              "      border: none;\n",
              "      border-radius: 50%;\n",
              "      cursor: pointer;\n",
              "      display: none;\n",
              "      fill: #1967D2;\n",
              "      height: 32px;\n",
              "      padding: 0 0 0 0;\n",
              "      width: 32px;\n",
              "    }\n",
              "\n",
              "    .colab-df-convert:hover {\n",
              "      background-color: #E2EBFA;\n",
              "      box-shadow: 0px 1px 2px rgba(60, 64, 67, 0.3), 0px 1px 3px 1px rgba(60, 64, 67, 0.15);\n",
              "      fill: #174EA6;\n",
              "    }\n",
              "\n",
              "    [theme=dark] .colab-df-convert {\n",
              "      background-color: #3B4455;\n",
              "      fill: #D2E3FC;\n",
              "    }\n",
              "\n",
              "    [theme=dark] .colab-df-convert:hover {\n",
              "      background-color: #434B5C;\n",
              "      box-shadow: 0px 1px 3px 1px rgba(0, 0, 0, 0.15);\n",
              "      filter: drop-shadow(0px 1px 2px rgba(0, 0, 0, 0.3));\n",
              "      fill: #FFFFFF;\n",
              "    }\n",
              "  </style>\n",
              "\n",
              "      <script>\n",
              "        const buttonEl =\n",
              "          document.querySelector('#df-0b618f27-7958-4d03-9d97-b1729510a508 button.colab-df-convert');\n",
              "        buttonEl.style.display =\n",
              "          google.colab.kernel.accessAllowed ? 'block' : 'none';\n",
              "\n",
              "        async function convertToInteractive(key) {\n",
              "          const element = document.querySelector('#df-0b618f27-7958-4d03-9d97-b1729510a508');\n",
              "          const dataTable =\n",
              "            await google.colab.kernel.invokeFunction('convertToInteractive',\n",
              "                                                     [key], {});\n",
              "          if (!dataTable) return;\n",
              "\n",
              "          const docLinkHtml = 'Like what you see? Visit the ' +\n",
              "            '<a target=\"_blank\" href=https://colab.research.google.com/notebooks/data_table.ipynb>data table notebook</a>'\n",
              "            + ' to learn more about interactive tables.';\n",
              "          element.innerHTML = '';\n",
              "          dataTable['output_type'] = 'display_data';\n",
              "          await google.colab.output.renderOutput(dataTable, element);\n",
              "          const docLink = document.createElement('div');\n",
              "          docLink.innerHTML = docLinkHtml;\n",
              "          element.appendChild(docLink);\n",
              "        }\n",
              "      </script>\n",
              "    </div>\n",
              "  </div>\n",
              "  "
            ]
          },
          "metadata": {},
          "execution_count": 239
        }
      ]
    },
    {
      "cell_type": "code",
      "source": [
        "#df_dev['sentence'] = df_dev['sentence'].apply(nfx.remove_stopwords)\n",
        "#df_dev['sentence'] = df_dev['sentence'].apply(nfx.remove_punctuations)\n",
        "#df_dev['sentence'] = df_dev['sentence'].apply(nfx.remove_special_characters)\n"
      ],
      "metadata": {
        "id": "sAjwqD4S1PA6"
      },
      "id": "sAjwqD4S1PA6",
      "execution_count": 240,
      "outputs": []
    },
    {
      "cell_type": "code",
      "source": [
        ""
      ],
      "metadata": {
        "id": "Hb0NNJL6XsbI"
      },
      "id": "Hb0NNJL6XsbI",
      "execution_count": null,
      "outputs": []
    },
    {
      "cell_type": "code",
      "source": [
        "# Clean dev dataset for predictions\n",
        "updates = clean(df_dev[\"sentence\"], lemmatize = True, stemmer = False)\n",
        "\n",
        "update_df(df_dev, updates)"
      ],
      "metadata": {
        "id": "iDzCbx5bu7FD",
        "colab": {
          "base_uri": "https://localhost:8080/",
          "height": 49,
          "referenced_widgets": [
            "9e2fb3ac52bc44cfa57c5238f1979710",
            "93a2347ca47d41389b5872b1332b2ccd",
            "5474987ee5cc4bdead034363ad45a997",
            "9501a444649243cdb27b605fb2c69d3a",
            "0b1b688bba364b5ea059e35eb52e19c2",
            "e28220d327ea4c91aa60537af83bb69a",
            "d6f0cf5c5cc1428aa1e2d251bfc76715",
            "56d85231320f40e683cf0a6f03db9ebb",
            "c8d2a8ae21054af7a88d2f0ae5697636",
            "92770890220547d8964de624e3c6c5bb",
            "c3b2597e4d6e45c9a3cf05b631c24905"
          ]
        },
        "outputId": "80c0df42-bf2a-45c5-8075-503881024b4b"
      },
      "id": "iDzCbx5bu7FD",
      "execution_count": 241,
      "outputs": [
        {
          "output_type": "display_data",
          "data": {
            "text/plain": [
              "  0%|          | 0/1000 [00:00<?, ?it/s]"
            ],
            "application/vnd.jupyter.widget-view+json": {
              "version_major": 2,
              "version_minor": 0,
              "model_id": "9e2fb3ac52bc44cfa57c5238f1979710"
            }
          },
          "metadata": {}
        }
      ]
    },
    {
      "cell_type": "code",
      "source": [
        "# map topic descriptions to labels\n",
        "df_dev['Labels'] = df_dev['emotion'].map({1: 0,\n",
        "                                            2: 1,\n",
        "                                            3: 2,\n",
        "                                            4: 3,\n",
        "                                            5: 4,\n",
        "                                            6: 5,\n",
        "                                            7: 6,\n",
        "                                            8: 7})\n",
        "\n",
        "# drop unused column\n",
        "df_dev = df_dev.drop([\"emotion\"], axis=1)\n",
        "\n",
        "df_dev.head()"
      ],
      "metadata": {
        "id": "MzIVpKRQu7Cu",
        "colab": {
          "base_uri": "https://localhost:8080/",
          "height": 206
        },
        "outputId": "2c9cfd32-98ca-407c-931d-8e08f48c939c"
      },
      "id": "MzIVpKRQu7Cu",
      "execution_count": 242,
      "outputs": [
        {
          "output_type": "execute_result",
          "data": {
            "text/plain": [
              "                                            sentence  Labels\n",
              "0               what happens to the gold in our safe       3\n",
              "1                           natural to get cold foot       7\n",
              "2                               not very lucky is he       6\n",
              "3  i m just a little anxious to get up there and ...       1\n",
              "4  did you think we don t know about your affair ...       0"
            ],
            "text/html": [
              "\n",
              "  <div id=\"df-42faf017-32c9-49ff-9870-db862399b3cf\">\n",
              "    <div class=\"colab-df-container\">\n",
              "      <div>\n",
              "<style scoped>\n",
              "    .dataframe tbody tr th:only-of-type {\n",
              "        vertical-align: middle;\n",
              "    }\n",
              "\n",
              "    .dataframe tbody tr th {\n",
              "        vertical-align: top;\n",
              "    }\n",
              "\n",
              "    .dataframe thead th {\n",
              "        text-align: right;\n",
              "    }\n",
              "</style>\n",
              "<table border=\"1\" class=\"dataframe\">\n",
              "  <thead>\n",
              "    <tr style=\"text-align: right;\">\n",
              "      <th></th>\n",
              "      <th>sentence</th>\n",
              "      <th>Labels</th>\n",
              "    </tr>\n",
              "  </thead>\n",
              "  <tbody>\n",
              "    <tr>\n",
              "      <th>0</th>\n",
              "      <td>what happens to the gold in our safe</td>\n",
              "      <td>3</td>\n",
              "    </tr>\n",
              "    <tr>\n",
              "      <th>1</th>\n",
              "      <td>natural to get cold foot</td>\n",
              "      <td>7</td>\n",
              "    </tr>\n",
              "    <tr>\n",
              "      <th>2</th>\n",
              "      <td>not very lucky is he</td>\n",
              "      <td>6</td>\n",
              "    </tr>\n",
              "    <tr>\n",
              "      <th>3</th>\n",
              "      <td>i m just a little anxious to get up there and ...</td>\n",
              "      <td>1</td>\n",
              "    </tr>\n",
              "    <tr>\n",
              "      <th>4</th>\n",
              "      <td>did you think we don t know about your affair ...</td>\n",
              "      <td>0</td>\n",
              "    </tr>\n",
              "  </tbody>\n",
              "</table>\n",
              "</div>\n",
              "      <button class=\"colab-df-convert\" onclick=\"convertToInteractive('df-42faf017-32c9-49ff-9870-db862399b3cf')\"\n",
              "              title=\"Convert this dataframe to an interactive table.\"\n",
              "              style=\"display:none;\">\n",
              "        \n",
              "  <svg xmlns=\"http://www.w3.org/2000/svg\" height=\"24px\"viewBox=\"0 0 24 24\"\n",
              "       width=\"24px\">\n",
              "    <path d=\"M0 0h24v24H0V0z\" fill=\"none\"/>\n",
              "    <path d=\"M18.56 5.44l.94 2.06.94-2.06 2.06-.94-2.06-.94-.94-2.06-.94 2.06-2.06.94zm-11 1L8.5 8.5l.94-2.06 2.06-.94-2.06-.94L8.5 2.5l-.94 2.06-2.06.94zm10 10l.94 2.06.94-2.06 2.06-.94-2.06-.94-.94-2.06-.94 2.06-2.06.94z\"/><path d=\"M17.41 7.96l-1.37-1.37c-.4-.4-.92-.59-1.43-.59-.52 0-1.04.2-1.43.59L10.3 9.45l-7.72 7.72c-.78.78-.78 2.05 0 2.83L4 21.41c.39.39.9.59 1.41.59.51 0 1.02-.2 1.41-.59l7.78-7.78 2.81-2.81c.8-.78.8-2.07 0-2.86zM5.41 20L4 18.59l7.72-7.72 1.47 1.35L5.41 20z\"/>\n",
              "  </svg>\n",
              "      </button>\n",
              "      \n",
              "  <style>\n",
              "    .colab-df-container {\n",
              "      display:flex;\n",
              "      flex-wrap:wrap;\n",
              "      gap: 12px;\n",
              "    }\n",
              "\n",
              "    .colab-df-convert {\n",
              "      background-color: #E8F0FE;\n",
              "      border: none;\n",
              "      border-radius: 50%;\n",
              "      cursor: pointer;\n",
              "      display: none;\n",
              "      fill: #1967D2;\n",
              "      height: 32px;\n",
              "      padding: 0 0 0 0;\n",
              "      width: 32px;\n",
              "    }\n",
              "\n",
              "    .colab-df-convert:hover {\n",
              "      background-color: #E2EBFA;\n",
              "      box-shadow: 0px 1px 2px rgba(60, 64, 67, 0.3), 0px 1px 3px 1px rgba(60, 64, 67, 0.15);\n",
              "      fill: #174EA6;\n",
              "    }\n",
              "\n",
              "    [theme=dark] .colab-df-convert {\n",
              "      background-color: #3B4455;\n",
              "      fill: #D2E3FC;\n",
              "    }\n",
              "\n",
              "    [theme=dark] .colab-df-convert:hover {\n",
              "      background-color: #434B5C;\n",
              "      box-shadow: 0px 1px 3px 1px rgba(0, 0, 0, 0.15);\n",
              "      filter: drop-shadow(0px 1px 2px rgba(0, 0, 0, 0.3));\n",
              "      fill: #FFFFFF;\n",
              "    }\n",
              "  </style>\n",
              "\n",
              "      <script>\n",
              "        const buttonEl =\n",
              "          document.querySelector('#df-42faf017-32c9-49ff-9870-db862399b3cf button.colab-df-convert');\n",
              "        buttonEl.style.display =\n",
              "          google.colab.kernel.accessAllowed ? 'block' : 'none';\n",
              "\n",
              "        async function convertToInteractive(key) {\n",
              "          const element = document.querySelector('#df-42faf017-32c9-49ff-9870-db862399b3cf');\n",
              "          const dataTable =\n",
              "            await google.colab.kernel.invokeFunction('convertToInteractive',\n",
              "                                                     [key], {});\n",
              "          if (!dataTable) return;\n",
              "\n",
              "          const docLinkHtml = 'Like what you see? Visit the ' +\n",
              "            '<a target=\"_blank\" href=https://colab.research.google.com/notebooks/data_table.ipynb>data table notebook</a>'\n",
              "            + ' to learn more about interactive tables.';\n",
              "          element.innerHTML = '';\n",
              "          dataTable['output_type'] = 'display_data';\n",
              "          await google.colab.output.renderOutput(dataTable, element);\n",
              "          const docLink = document.createElement('div');\n",
              "          docLink.innerHTML = docLinkHtml;\n",
              "          element.appendChild(docLink);\n",
              "        }\n",
              "      </script>\n",
              "    </div>\n",
              "  </div>\n",
              "  "
            ]
          },
          "metadata": {},
          "execution_count": 242
        }
      ]
    },
    {
      "cell_type": "code",
      "source": [
        "from sklearn.metrics import classification_report\n",
        "from sklearn.metrics import accuracy_score, f1_score, confusion_matrix, classification_report\n",
        "\n",
        "y_pred = predict_class(df_dev[\"sentence\"])"
      ],
      "metadata": {
        "id": "ZMs5hHZJSfBO"
      },
      "id": "ZMs5hHZJSfBO",
      "execution_count": 243,
      "outputs": []
    },
    {
      "cell_type": "code",
      "source": [
        "class_names = df_dev['Labels'].unique().tolist()\n",
        "\n",
        "print(classification_report(df_dev[\"Labels\"], y_pred))\n",
        "print(\"Accuracy: {:.2f}%\".format(accuracy_score(df_dev['Labels'], y_pred) * 100))\n",
        "print(\"\\nF1 Score: {:.2f}\".format(f1_score(df_dev['Labels'], y_pred, average='micro') * 100))\n",
        "\n",
        "# Plot normalized confusion matrix\n",
        "plot_confusion_matrix(df_dev['Labels'], y_pred, classes=class_names, normalize=True, title='Normalized confusion matrix')\n",
        "plt.show()"
      ],
      "metadata": {
        "id": "dxkHafFGaqID",
        "colab": {
          "base_uri": "https://localhost:8080/",
          "height": 881
        },
        "outputId": "e666f93b-3279-43bd-9b66-fcf513684bf0"
      },
      "id": "dxkHafFGaqID",
      "execution_count": 244,
      "outputs": [
        {
          "output_type": "stream",
          "name": "stdout",
          "text": [
            "              precision    recall  f1-score   support\n",
            "\n",
            "           0       0.39      0.52      0.45       211\n",
            "           1       0.51      0.41      0.45       170\n",
            "           2       0.41      0.26      0.32        77\n",
            "           3       0.46      0.35      0.39       104\n",
            "           4       0.46      0.37      0.41        97\n",
            "           5       0.34      0.48      0.40        87\n",
            "           6       0.41      0.34      0.37        96\n",
            "           7       0.43      0.48      0.46       158\n",
            "\n",
            "    accuracy                           0.42      1000\n",
            "   macro avg       0.43      0.40      0.41      1000\n",
            "weighted avg       0.43      0.42      0.42      1000\n",
            "\n",
            "Accuracy: 42.10%\n",
            "\n",
            "F1 Score: 42.10\n"
          ]
        },
        {
          "output_type": "display_data",
          "data": {
            "text/plain": [
              "<Figure size 900x540 with 2 Axes>"
            ],
            "image/png": "[encoded data removed]"
          },
          "metadata": {}
        }
      ]
    },
    {
      "cell_type": "code",
      "source": [
        ""
      ],
      "metadata": {
        "id": "q8mbdZ8VSfHD"
      },
      "id": "q8mbdZ8VSfHD",
      "execution_count": null,
      "outputs": []
    },
    {
      "cell_type": "code",
      "source": [
        ""
      ],
      "metadata": {
        "id": "n_qw04R3SfKp"
      },
      "id": "n_qw04R3SfKp",
      "execution_count": null,
      "outputs": []
    },
    {
      "cell_type": "code",
      "source": [
        ""
      ],
      "metadata": {
        "id": "eAWFr0VtSfOk"
      },
      "id": "eAWFr0VtSfOk",
      "execution_count": null,
      "outputs": []
    },
    {
      "cell_type": "code",
      "source": [
        ""
      ],
      "metadata": {
        "id": "hZSa24XbSfQH"
      },
      "id": "hZSa24XbSfQH",
      "execution_count": 34,
      "outputs": []
    },
    {
      "cell_type": "markdown",
      "source": [
        "# -------------------------------------------------------------------\n",
        "# Classifier 2 - Bert with mixed df"
      ],
      "metadata": {
        "id": "yObqIwGP3NGB"
      },
      "id": "yObqIwGP3NGB"
    },
    {
      "cell_type": "code",
      "source": [
        "# Loading file \n",
        "import pandas as pd\n",
        "#df = pd.read_csv('training_set.txt', delimiter = '\\t')\n",
        "df_dev = pd.read_csv('https://raw.githubusercontent.com/MiguelOva/text_mining/main/dev_set.txt', delimiter = '\\t')\n",
        "df_train = pd.read_csv('https://raw.githubusercontent.com/MiguelOva/text_mining/main/training_set.txt', delimiter = '\\t')\n",
        "df_test = pd.read_csv('https://raw.githubusercontent.com/MiguelOva/text_mining/main/test_set.txt', delimiter = '\\t')"
      ],
      "metadata": {
        "id": "K7H7j_zEmEtZ"
      },
      "id": "K7H7j_zEmEtZ",
      "execution_count": 35,
      "outputs": []
    },
    {
      "cell_type": "code",
      "source": [
        "df_mix = df_train.append(df_dev, ignore_index=True)"
      ],
      "metadata": {
        "id": "DpRy4Xk6lzsX"
      },
      "id": "DpRy4Xk6lzsX",
      "execution_count": 36,
      "outputs": []
    },
    {
      "cell_type": "code",
      "source": [
        "df_mix['sentence'] = df_mix['sentence'].apply(nfx.remove_stopwords)\n",
        "#df_mix['sentence'] = df_mix['sentence'].apply(nfx.remove_punctuations)\n",
        "#df_mix['sentence'] = df_mix['sentence'].apply(nfx.remove_special_characters)"
      ],
      "metadata": {
        "id": "7JGmYBsgl4K5"
      },
      "id": "7JGmYBsgl4K5",
      "execution_count": 37,
      "outputs": []
    },
    {
      "cell_type": "code",
      "source": [
        "# Clean dev dataset for predictions\n",
        "updates = clean(df_mix[\"sentence\"], lemmatize = True, stemmer = False)\n",
        "\n",
        "update_df(df_mix, updates)"
      ],
      "metadata": {
        "colab": {
          "base_uri": "https://localhost:8080/",
          "height": 49,
          "referenced_widgets": [
            "f653e366b23246b8aa62e84e2b279071",
            "21b6d90f28614b039dd566dca4eebbdd",
            "146a3c16a6fb42e9a3db8f64da50aa92",
            "465e046240824471acb0cbd755ecfbe1",
            "852e53dc842a4feda89aef07368b654d",
            "517be561a63a41f29412d145dd871a1e",
            "50e1b353550745fe983840b08ff9455d",
            "52d3d291277f4416aee0b003afa8a574",
            "15f1da71507446749b98387aab788bc0",
            "64db2f8ba8a040e3ab3eef2152489074",
            "7a31fd74aee54cbe9cb335f1e8b90fbd"
          ]
        },
        "id": "nMiAsRBFl4Bd",
        "outputId": "7eacdc5c-c0a4-4319-83b0-3476fc7f3be4"
      },
      "id": "nMiAsRBFl4Bd",
      "execution_count": 38,
      "outputs": [
        {
          "output_type": "display_data",
          "data": {
            "text/plain": [
              "  0%|          | 0/15000 [00:00<?, ?it/s]"
            ],
            "application/vnd.jupyter.widget-view+json": {
              "version_major": 2,
              "version_minor": 0,
              "model_id": "f653e366b23246b8aa62e84e2b279071"
            }
          },
          "metadata": {}
        }
      ]
    },
    {
      "cell_type": "code",
      "source": [
        "# map topic descriptions to labels\n",
        "df_mix['Labels'] = df_mix['emotion'].map({1: 0,\n",
        "                                            2: 1,\n",
        "                                            3: 2,\n",
        "                                            4: 3,\n",
        "                                            5: 4,\n",
        "                                            6: 5,\n",
        "                                            7: 6,\n",
        "                                            8: 7})\n",
        "\n",
        "# drop unused column\n",
        "df_mix = df_mix.drop([\"emotion\"], axis=1)\n",
        "\n",
        "df_mix.head()"
      ],
      "metadata": {
        "colab": {
          "base_uri": "https://localhost:8080/",
          "height": 206
        },
        "id": "WQcevfDZmcXr",
        "outputId": "6ddaa469-4f9f-4f4d-ed59-7c6542e2d848"
      },
      "id": "WQcevfDZmcXr",
      "execution_count": 39,
      "outputs": [
        {
          "output_type": "execute_result",
          "data": {
            "text/plain": [
              "                     sentence  Labels\n",
              "0               im old traded       5\n",
              "1  mother said tell lady hand       7\n",
              "2     said id leave time came       5\n",
              "3                   hell safe       1\n",
              "4                         lay       0"
            ],
            "text/html": [
              "\n",
              "  <div id=\"df-6177b457-0ea3-4b7e-ad6a-21484c6ecd06\">\n",
              "    <div class=\"colab-df-container\">\n",
              "      <div>\n",
              "<style scoped>\n",
              "    .dataframe tbody tr th:only-of-type {\n",
              "        vertical-align: middle;\n",
              "    }\n",
              "\n",
              "    .dataframe tbody tr th {\n",
              "        vertical-align: top;\n",
              "    }\n",
              "\n",
              "    .dataframe thead th {\n",
              "        text-align: right;\n",
              "    }\n",
              "</style>\n",
              "<table border=\"1\" class=\"dataframe\">\n",
              "  <thead>\n",
              "    <tr style=\"text-align: right;\">\n",
              "      <th></th>\n",
              "      <th>sentence</th>\n",
              "      <th>Labels</th>\n",
              "    </tr>\n",
              "  </thead>\n",
              "  <tbody>\n",
              "    <tr>\n",
              "      <th>0</th>\n",
              "      <td>im old traded</td>\n",
              "      <td>5</td>\n",
              "    </tr>\n",
              "    <tr>\n",
              "      <th>1</th>\n",
              "      <td>mother said tell lady hand</td>\n",
              "      <td>7</td>\n",
              "    </tr>\n",
              "    <tr>\n",
              "      <th>2</th>\n",
              "      <td>said id leave time came</td>\n",
              "      <td>5</td>\n",
              "    </tr>\n",
              "    <tr>\n",
              "      <th>3</th>\n",
              "      <td>hell safe</td>\n",
              "      <td>1</td>\n",
              "    </tr>\n",
              "    <tr>\n",
              "      <th>4</th>\n",
              "      <td>lay</td>\n",
              "      <td>0</td>\n",
              "    </tr>\n",
              "  </tbody>\n",
              "</table>\n",
              "</div>\n",
              "      <button class=\"colab-df-convert\" onclick=\"convertToInteractive('df-6177b457-0ea3-4b7e-ad6a-21484c6ecd06')\"\n",
              "              title=\"Convert this dataframe to an interactive table.\"\n",
              "              style=\"display:none;\">\n",
              "        \n",
              "  <svg xmlns=\"http://www.w3.org/2000/svg\" height=\"24px\"viewBox=\"0 0 24 24\"\n",
              "       width=\"24px\">\n",
              "    <path d=\"M0 0h24v24H0V0z\" fill=\"none\"/>\n",
              "    <path d=\"M18.56 5.44l.94 2.06.94-2.06 2.06-.94-2.06-.94-.94-2.06-.94 2.06-2.06.94zm-11 1L8.5 8.5l.94-2.06 2.06-.94-2.06-.94L8.5 2.5l-.94 2.06-2.06.94zm10 10l.94 2.06.94-2.06 2.06-.94-2.06-.94-.94-2.06-.94 2.06-2.06.94z\"/><path d=\"M17.41 7.96l-1.37-1.37c-.4-.4-.92-.59-1.43-.59-.52 0-1.04.2-1.43.59L10.3 9.45l-7.72 7.72c-.78.78-.78 2.05 0 2.83L4 21.41c.39.39.9.59 1.41.59.51 0 1.02-.2 1.41-.59l7.78-7.78 2.81-2.81c.8-.78.8-2.07 0-2.86zM5.41 20L4 18.59l7.72-7.72 1.47 1.35L5.41 20z\"/>\n",
              "  </svg>\n",
              "      </button>\n",
              "      \n",
              "  <style>\n",
              "    .colab-df-container {\n",
              "      display:flex;\n",
              "      flex-wrap:wrap;\n",
              "      gap: 12px;\n",
              "    }\n",
              "\n",
              "    .colab-df-convert {\n",
              "      background-color: #E8F0FE;\n",
              "      border: none;\n",
              "      border-radius: 50%;\n",
              "      cursor: pointer;\n",
              "      display: none;\n",
              "      fill: #1967D2;\n",
              "      height: 32px;\n",
              "      padding: 0 0 0 0;\n",
              "      width: 32px;\n",
              "    }\n",
              "\n",
              "    .colab-df-convert:hover {\n",
              "      background-color: #E2EBFA;\n",
              "      box-shadow: 0px 1px 2px rgba(60, 64, 67, 0.3), 0px 1px 3px 1px rgba(60, 64, 67, 0.15);\n",
              "      fill: #174EA6;\n",
              "    }\n",
              "\n",
              "    [theme=dark] .colab-df-convert {\n",
              "      background-color: #3B4455;\n",
              "      fill: #D2E3FC;\n",
              "    }\n",
              "\n",
              "    [theme=dark] .colab-df-convert:hover {\n",
              "      background-color: #434B5C;\n",
              "      box-shadow: 0px 1px 3px 1px rgba(0, 0, 0, 0.15);\n",
              "      filter: drop-shadow(0px 1px 2px rgba(0, 0, 0, 0.3));\n",
              "      fill: #FFFFFF;\n",
              "    }\n",
              "  </style>\n",
              "\n",
              "      <script>\n",
              "        const buttonEl =\n",
              "          document.querySelector('#df-6177b457-0ea3-4b7e-ad6a-21484c6ecd06 button.colab-df-convert');\n",
              "        buttonEl.style.display =\n",
              "          google.colab.kernel.accessAllowed ? 'block' : 'none';\n",
              "\n",
              "        async function convertToInteractive(key) {\n",
              "          const element = document.querySelector('#df-6177b457-0ea3-4b7e-ad6a-21484c6ecd06');\n",
              "          const dataTable =\n",
              "            await google.colab.kernel.invokeFunction('convertToInteractive',\n",
              "                                                     [key], {});\n",
              "          if (!dataTable) return;\n",
              "\n",
              "          const docLinkHtml = 'Like what you see? Visit the ' +\n",
              "            '<a target=\"_blank\" href=https://colab.research.google.com/notebooks/data_table.ipynb>data table notebook</a>'\n",
              "            + ' to learn more about interactive tables.';\n",
              "          element.innerHTML = '';\n",
              "          dataTable['output_type'] = 'display_data';\n",
              "          await google.colab.output.renderOutput(dataTable, element);\n",
              "          const docLink = document.createElement('div');\n",
              "          docLink.innerHTML = docLinkHtml;\n",
              "          element.appendChild(docLink);\n",
              "        }\n",
              "      </script>\n",
              "    </div>\n",
              "  </div>\n",
              "  "
            ]
          },
          "metadata": {},
          "execution_count": 39
        }
      ]
    },
    {
      "cell_type": "code",
      "source": [
        "import tensorflow as tf\n",
        "from sklearn.model_selection import train_test_split\n",
        "\n",
        "y = tf.keras.utils.to_categorical(df_mix[\"Labels\"].values, num_classes=num_classes)\n",
        "\n",
        "\n",
        "# Try to alter test size to 0.20 to improve results \n",
        "x_train, x_test, y_train, y_test = train_test_split(df_mix['sentence'], y, test_size=0.2)"
      ],
      "metadata": {
        "id": "-lD-6esOm-G-"
      },
      "id": "-lD-6esOm-G-",
      "execution_count": 43,
      "outputs": []
    },
    {
      "cell_type": "code",
      "source": [
        "import tensorflow_hub as hub\n",
        "import tensorflow_text as text\n",
        "\n",
        "preprocessor = hub.KerasLayer(\"https://tfhub.dev/google/universal-sentence-encoder-cmlm/multilingual-preprocess/2\")\n",
        "encoder = hub.KerasLayer(\"https://tfhub.dev/google/universal-sentence-encoder-cmlm/multilingual-base/1\")"
      ],
      "metadata": {
        "id": "EcAcVo5onNos"
      },
      "id": "EcAcVo5onNos",
      "execution_count": 44,
      "outputs": []
    },
    {
      "cell_type": "code",
      "source": [
        "i = tf.keras.layers.Input(shape=(), dtype=tf.string, name='text')\n",
        "x = preprocessor(i)\n",
        "x = encoder(x)\n",
        "x = tf.keras.layers.Dropout(0.2, name=\"dropout\")(x['pooled_output'])\n",
        "x = tf.keras.layers.Dense(num_classes, activation='softmax', name=\"output\")(x)\n",
        "\n",
        "model_2 = tf.keras.Model(i, x)"
      ],
      "metadata": {
        "id": "tUhcHN2rmmhQ"
      },
      "id": "tUhcHN2rmmhQ",
      "execution_count": 45,
      "outputs": []
    },
    {
      "cell_type": "code",
      "source": [
        "n_epochs = 20\n",
        "\n",
        "METRICS = [\n",
        "      tf.keras.metrics.CategoricalAccuracy(name=\"accuracy\")\n",
        "]\n",
        "\n",
        "earlystop_callback = tf.keras.callbacks.EarlyStopping(monitor = \"val_loss\", \n",
        "                                                      patience = 3,\n",
        "                                                      restore_best_weights = True)\n",
        "\n",
        "model_2.compile(optimizer = \"adam\",\n",
        "              loss = \"categorical_crossentropy\",\n",
        "              metrics = METRICS)\n",
        "\n",
        "model_fit = model_2.fit(x_train, \n",
        "                      y_train, \n",
        "                      epochs = n_epochs,\n",
        "                      validation_data = (x_test, y_test),\n",
        "                      callbacks = [earlystop_callback])"
      ],
      "metadata": {
        "colab": {
          "base_uri": "https://localhost:8080/"
        },
        "id": "jhireXSUnMy-",
        "outputId": "e00a11af-9aad-4807-f1da-afa816537167"
      },
      "id": "jhireXSUnMy-",
      "execution_count": 47,
      "outputs": [
        {
          "output_type": "stream",
          "name": "stdout",
          "text": [
            "Epoch 1/20\n",
            "375/375 [==============================] - 180s 419ms/step - loss: 1.9820 - accuracy: 0.2393 - val_loss: 1.8266 - val_accuracy: 0.3170\n",
            "Epoch 2/20\n",
            "375/375 [==============================] - 155s 414ms/step - loss: 1.8138 - accuracy: 0.3198 - val_loss: 1.7798 - val_accuracy: 0.3350\n",
            "Epoch 3/20\n",
            "375/375 [==============================] - 155s 415ms/step - loss: 1.7613 - accuracy: 0.3451 - val_loss: 1.7380 - val_accuracy: 0.3577\n",
            "Epoch 4/20\n",
            "375/375 [==============================] - 155s 414ms/step - loss: 1.7430 - accuracy: 0.3523 - val_loss: 1.7384 - val_accuracy: 0.3537\n",
            "Epoch 5/20\n",
            "375/375 [==============================] - 155s 415ms/step - loss: 1.7294 - accuracy: 0.3562 - val_loss: 1.7447 - val_accuracy: 0.3607\n",
            "Epoch 6/20\n",
            "375/375 [==============================] - 155s 414ms/step - loss: 1.7207 - accuracy: 0.3657 - val_loss: 1.7344 - val_accuracy: 0.3493\n",
            "Epoch 7/20\n",
            "375/375 [==============================] - 155s 415ms/step - loss: 1.7218 - accuracy: 0.3647 - val_loss: 1.7325 - val_accuracy: 0.3567\n",
            "Epoch 8/20\n",
            "375/375 [==============================] - 156s 415ms/step - loss: 1.7055 - accuracy: 0.3697 - val_loss: 1.7578 - val_accuracy: 0.3587\n",
            "Epoch 9/20\n",
            "375/375 [==============================] - 155s 414ms/step - loss: 1.7039 - accuracy: 0.3705 - val_loss: 1.7586 - val_accuracy: 0.3617\n",
            "Epoch 10/20\n",
            "375/375 [==============================] - 156s 415ms/step - loss: 1.6980 - accuracy: 0.3704 - val_loss: 1.7540 - val_accuracy: 0.3580\n"
          ]
        }
      ]
    },
    {
      "cell_type": "code",
      "source": [
        "# plot history\n",
        "import matplotlib.pyplot as pyplot \n",
        "pyplot.plot(model_fit.history['loss'], label='train')\n",
        "pyplot.plot(model_fit.history['val_loss'], label='test')\n",
        "pyplot.legend()\n",
        "pyplot.title('Mean Squared Error between Train and Test Sets')\n",
        "pyplot.show()"
      ],
      "metadata": {
        "colab": {
          "base_uri": "https://localhost:8080/",
          "height": 282
        },
        "id": "Gr5H9pBinMpC",
        "outputId": "1b2e2b19-2001-4b57-ba0e-8d9f0ebfbdf8"
      },
      "id": "Gr5H9pBinMpC",
      "execution_count": 48,
      "outputs": [
        {
          "output_type": "display_data",
          "data": {
            "text/plain": [
              "<Figure size 432x288 with 1 Axes>"
            ],
            "image/png": "[encoded data removed]"
          },
          "metadata": {}
        }
      ]
    },
    {
      "cell_type": "code",
      "source": [
        "#df2.to_csv('test_results.txt', header=True, sep ='\\t', index =False)"
      ],
      "metadata": {
        "id": "8UJzmEpanMYw"
      },
      "id": "8UJzmEpanMYw",
      "execution_count": null,
      "outputs": []
    },
    {
      "cell_type": "code",
      "source": [
        ""
      ],
      "metadata": {
        "id": "-Tj3PjvhSfXi"
      },
      "id": "-Tj3PjvhSfXi",
      "execution_count": null,
      "outputs": []
    },
    {
      "cell_type": "code",
      "source": [
        ""
      ],
      "metadata": {
        "id": "9Ll0buUPNHUf"
      },
      "id": "9Ll0buUPNHUf",
      "execution_count": null,
      "outputs": []
    },
    {
      "cell_type": "code",
      "source": [
        ""
      ],
      "metadata": {
        "id": "z2-WgblYSfal"
      },
      "id": "z2-WgblYSfal",
      "execution_count": null,
      "outputs": []
    },
    {
      "cell_type": "code",
      "source": [
        ""
      ],
      "metadata": {
        "id": "n5mhJ2VjSfdZ"
      },
      "id": "n5mhJ2VjSfdZ",
      "execution_count": null,
      "outputs": []
    },
    {
      "cell_type": "code",
      "source": [
        ""
      ],
      "metadata": {
        "id": "OrUng_ibSffy"
      },
      "id": "OrUng_ibSffy",
      "execution_count": null,
      "outputs": []
    },
    {
      "cell_type": "code",
      "source": [
        ""
      ],
      "metadata": {
        "id": "Q7u5nayQSfif"
      },
      "id": "Q7u5nayQSfif",
      "execution_count": null,
      "outputs": []
    },
    {
      "cell_type": "code",
      "source": [
        ""
      ],
      "metadata": {
        "id": "4GgTgQcrc18g"
      },
      "id": "4GgTgQcrc18g",
      "execution_count": null,
      "outputs": []
    },
    {
      "cell_type": "code",
      "source": [
        ""
      ],
      "metadata": {
        "id": "sQsypYNac1_e"
      },
      "id": "sQsypYNac1_e",
      "execution_count": null,
      "outputs": []
    },
    {
      "cell_type": "code",
      "source": [
        ""
      ],
      "metadata": {
        "id": "3QrLq8h-c2DW"
      },
      "id": "3QrLq8h-c2DW",
      "execution_count": null,
      "outputs": []
    },
    {
      "cell_type": "code",
      "source": [
        ""
      ],
      "metadata": {
        "id": "sWrxeXp7c2Fb"
      },
      "id": "sWrxeXp7c2Fb",
      "execution_count": null,
      "outputs": []
    },
    {
      "cell_type": "code",
      "source": [
        ""
      ],
      "metadata": {
        "id": "NdVqhXNBc2HR"
      },
      "id": "NdVqhXNBc2HR",
      "execution_count": null,
      "outputs": []
    },
    {
      "cell_type": "code",
      "source": [
        ""
      ],
      "metadata": {
        "id": "I2QMW2k4c2KW"
      },
      "id": "I2QMW2k4c2KW",
      "execution_count": null,
      "outputs": []
    },
    {
      "cell_type": "code",
      "source": [
        ""
      ],
      "metadata": {
        "id": "JJ__MXYJc2Na"
      },
      "id": "JJ__MXYJc2Na",
      "execution_count": null,
      "outputs": []
    },
    {
      "cell_type": "code",
      "source": [
        ""
      ],
      "metadata": {
        "id": "KbMS4IMGc2QQ"
      },
      "id": "KbMS4IMGc2QQ",
      "execution_count": null,
      "outputs": []
    },
    {
      "cell_type": "code",
      "source": [
        ""
      ],
      "metadata": {
        "id": "5sgt61dZc2Ss"
      },
      "id": "5sgt61dZc2Ss",
      "execution_count": null,
      "outputs": []
    },
    {
      "cell_type": "code",
      "source": [
        ""
      ],
      "metadata": {
        "id": "0AedOEQpc2VN"
      },
      "id": "0AedOEQpc2VN",
      "execution_count": null,
      "outputs": []
    },
    {
      "cell_type": "code",
      "source": [
        ""
      ],
      "metadata": {
        "id": "wOu5CQ8dc2Xb"
      },
      "id": "wOu5CQ8dc2Xb",
      "execution_count": null,
      "outputs": []
    },
    {
      "cell_type": "code",
      "source": [
        ""
      ],
      "metadata": {
        "id": "ENBAJjnkc2aO"
      },
      "id": "ENBAJjnkc2aO",
      "execution_count": null,
      "outputs": []
    },
    {
      "cell_type": "code",
      "source": [
        ""
      ],
      "metadata": {
        "id": "DlmjRooG9Aca"
      },
      "id": "DlmjRooG9Aca",
      "execution_count": null,
      "outputs": []
    },
    {
      "cell_type": "code",
      "source": [
        ""
      ],
      "metadata": {
        "id": "ZuSHJAOv9AZO"
      },
      "id": "ZuSHJAOv9AZO",
      "execution_count": null,
      "outputs": []
    },
    {
      "cell_type": "code",
      "source": [
        ""
      ],
      "metadata": {
        "id": "c7xil-uV9ATe"
      },
      "id": "c7xil-uV9ATe",
      "execution_count": null,
      "outputs": []
    },
    {
      "cell_type": "code",
      "source": [
        ""
      ],
      "metadata": {
        "id": "LlHBp1Qi9ACZ"
      },
      "id": "LlHBp1Qi9ACZ",
      "execution_count": null,
      "outputs": []
    }
  ],
  "metadata": {
    "accelerator": "GPU",
    "colab": {
      "collapsed_sections": [],
      "name": "Bert - with Tensorlfow.ipynb",
      "provenance": [],
      "include_colab_link": true
    },
    "kernelspec": {
      "display_name": "Python 3.8 (t-tensorflow)",
      "language": "python",
      "name": "text_m"
    },
    "language_info": {
      "codemirror_mode": {
        "name": "ipython",
        "version": 3
      },
      "file_extension": ".py",
      "mimetype": "text/x-python",
      "name": "python",
      "nbconvert_exporter": "python",
      "pygments_lexer": "ipython3",
      "version": "3.8.13"
    },
    "widgets": {
      "application/vnd.jupyter.widget-state+json": {
        "441d275891194881b2588a3f4ac25831": {
          "model_module": "@jupyter-widgets/controls",
          "model_name": "HBoxModel",
          "model_module_version": "1.5.0",
          "state": {
            "_dom_classes": [],
            "_model_module": "@jupyter-widgets/controls",
            "_model_module_version": "1.5.0",
            "_model_name": "HBoxModel",
            "_view_count": null,
            "_view_module": "@jupyter-widgets/controls",
            "_view_module_version": "1.5.0",
            "_view_name": "HBoxView",
            "box_style": "",
            "children": [
              "IPY_MODEL_14011e48faa5472b830a9ef74c63afc4",
              "IPY_MODEL_d04118cf002347f4a2eb128e22708412",
              "IPY_MODEL_36f86d3f2d904014ad99ce628a1b5f6f"
            ],
            "layout": "IPY_MODEL_588eff08b7e3403bbdc55e22c73eba2e"
          }
        },
        "14011e48faa5472b830a9ef74c63afc4": {
          "model_module": "@jupyter-widgets/controls",
          "model_name": "HTMLModel",
          "model_module_version": "1.5.0",
          "state": {
            "_dom_classes": [],
            "_model_module": "@jupyter-widgets/controls",
            "_model_module_version": "1.5.0",
            "_model_name": "HTMLModel",
            "_view_count": null,
            "_view_module": "@jupyter-widgets/controls",
            "_view_module_version": "1.5.0",
            "_view_name": "HTMLView",
            "description": "",
            "description_tooltip": null,
            "layout": "IPY_MODEL_551a3fd5148f458a80b80708fbbe58b0",
            "placeholder": "​",
            "style": "IPY_MODEL_b36f7fb189f7482b88ed8a496b6105a7",
            "value": "100%"
          }
        },
        "d04118cf002347f4a2eb128e22708412": {
          "model_module": "@jupyter-widgets/controls",
          "model_name": "FloatProgressModel",
          "model_module_version": "1.5.0",
          "state": {
            "_dom_classes": [],
            "_model_module": "@jupyter-widgets/controls",
            "_model_module_version": "1.5.0",
            "_model_name": "FloatProgressModel",
            "_view_count": null,
            "_view_module": "@jupyter-widgets/controls",
            "_view_module_version": "1.5.0",
            "_view_name": "ProgressView",
            "bar_style": "success",
            "description": "",
            "description_tooltip": null,
            "layout": "IPY_MODEL_7560dbddf40744ffbffb315b8effe9f6",
            "max": 14000,
            "min": 0,
            "orientation": "horizontal",
            "style": "IPY_MODEL_02fa67c55a924bd98b3c0030fbec6acd",
            "value": 14000
          }
        },
        "36f86d3f2d904014ad99ce628a1b5f6f": {
          "model_module": "@jupyter-widgets/controls",
          "model_name": "HTMLModel",
          "model_module_version": "1.5.0",
          "state": {
            "_dom_classes": [],
            "_model_module": "@jupyter-widgets/controls",
            "_model_module_version": "1.5.0",
            "_model_name": "HTMLModel",
            "_view_count": null,
            "_view_module": "@jupyter-widgets/controls",
            "_view_module_version": "1.5.0",
            "_view_name": "HTMLView",
            "description": "",
            "description_tooltip": null,
            "layout": "IPY_MODEL_e8e8e000799a412d91afbebc298e2def",
            "placeholder": "​",
            "style": "IPY_MODEL_30680eda038342a4b5894f2d912b14de",
            "value": " 14000/14000 [00:03&lt;00:00, 3778.67it/s]"
          }
        },
        "588eff08b7e3403bbdc55e22c73eba2e": {
          "model_module": "@jupyter-widgets/base",
          "model_name": "LayoutModel",
          "model_module_version": "1.2.0",
          "state": {
            "_model_module": "@jupyter-widgets/base",
            "_model_module_version": "1.2.0",
            "_model_name": "LayoutModel",
            "_view_count": null,
            "_view_module": "@jupyter-widgets/base",
            "_view_module_version": "1.2.0",
            "_view_name": "LayoutView",
            "align_content": null,
            "align_items": null,
            "align_self": null,
            "border": null,
            "bottom": null,
            "display": null,
            "flex": null,
            "flex_flow": null,
            "grid_area": null,
            "grid_auto_columns": null,
            "grid_auto_flow": null,
            "grid_auto_rows": null,
            "grid_column": null,
            "grid_gap": null,
            "grid_row": null,
            "grid_template_areas": null,
            "grid_template_columns": null,
            "grid_template_rows": null,
            "height": null,
            "justify_content": null,
            "justify_items": null,
            "left": null,
            "margin": null,
            "max_height": null,
            "max_width": null,
            "min_height": null,
            "min_width": null,
            "object_fit": null,
            "object_position": null,
            "order": null,
            "overflow": null,
            "overflow_x": null,
            "overflow_y": null,
            "padding": null,
            "right": null,
            "top": null,
            "visibility": null,
            "width": null
          }
        },
        "551a3fd5148f458a80b80708fbbe58b0": {
          "model_module": "@jupyter-widgets/base",
          "model_name": "LayoutModel",
          "model_module_version": "1.2.0",
          "state": {
            "_model_module": "@jupyter-widgets/base",
            "_model_module_version": "1.2.0",
            "_model_name": "LayoutModel",
            "_view_count": null,
            "_view_module": "@jupyter-widgets/base",
            "_view_module_version": "1.2.0",
            "_view_name": "LayoutView",
            "align_content": null,
            "align_items": null,
            "align_self": null,
            "border": null,
            "bottom": null,
            "display": null,
            "flex": null,
            "flex_flow": null,
            "grid_area": null,
            "grid_auto_columns": null,
            "grid_auto_flow": null,
            "grid_auto_rows": null,
            "grid_column": null,
            "grid_gap": null,
            "grid_row": null,
            "grid_template_areas": null,
            "grid_template_columns": null,
            "grid_template_rows": null,
            "height": null,
            "justify_content": null,
            "justify_items": null,
            "left": null,
            "margin": null,
            "max_height": null,
            "max_width": null,
            "min_height": null,
            "min_width": null,
            "object_fit": null,
            "object_position": null,
            "order": null,
            "overflow": null,
            "overflow_x": null,
            "overflow_y": null,
            "padding": null,
            "right": null,
            "top": null,
            "visibility": null,
            "width": null
          }
        },
        "b36f7fb189f7482b88ed8a496b6105a7": {
          "model_module": "@jupyter-widgets/controls",
          "model_name": "DescriptionStyleModel",
          "model_module_version": "1.5.0",
          "state": {
            "_model_module": "@jupyter-widgets/controls",
            "_model_module_version": "1.5.0",
            "_model_name": "DescriptionStyleModel",
            "_view_count": null,
            "_view_module": "@jupyter-widgets/base",
            "_view_module_version": "1.2.0",
            "_view_name": "StyleView",
            "description_width": ""
          }
        },
        "7560dbddf40744ffbffb315b8effe9f6": {
          "model_module": "@jupyter-widgets/base",
          "model_name": "LayoutModel",
          "model_module_version": "1.2.0",
          "state": {
            "_model_module": "@jupyter-widgets/base",
            "_model_module_version": "1.2.0",
            "_model_name": "LayoutModel",
            "_view_count": null,
            "_view_module": "@jupyter-widgets/base",
            "_view_module_version": "1.2.0",
            "_view_name": "LayoutView",
            "align_content": null,
            "align_items": null,
            "align_self": null,
            "border": null,
            "bottom": null,
            "display": null,
            "flex": null,
            "flex_flow": null,
            "grid_area": null,
            "grid_auto_columns": null,
            "grid_auto_flow": null,
            "grid_auto_rows": null,
            "grid_column": null,
            "grid_gap": null,
            "grid_row": null,
            "grid_template_areas": null,
            "grid_template_columns": null,
            "grid_template_rows": null,
            "height": null,
            "justify_content": null,
            "justify_items": null,
            "left": null,
            "margin": null,
            "max_height": null,
            "max_width": null,
            "min_height": null,
            "min_width": null,
            "object_fit": null,
            "object_position": null,
            "order": null,
            "overflow": null,
            "overflow_x": null,
            "overflow_y": null,
            "padding": null,
            "right": null,
            "top": null,
            "visibility": null,
            "width": null
          }
        },
        "02fa67c55a924bd98b3c0030fbec6acd": {
          "model_module": "@jupyter-widgets/controls",
          "model_name": "ProgressStyleModel",
          "model_module_version": "1.5.0",
          "state": {
            "_model_module": "@jupyter-widgets/controls",
            "_model_module_version": "1.5.0",
            "_model_name": "ProgressStyleModel",
            "_view_count": null,
            "_view_module": "@jupyter-widgets/base",
            "_view_module_version": "1.2.0",
            "_view_name": "StyleView",
            "bar_color": null,
            "description_width": ""
          }
        },
        "e8e8e000799a412d91afbebc298e2def": {
          "model_module": "@jupyter-widgets/base",
          "model_name": "LayoutModel",
          "model_module_version": "1.2.0",
          "state": {
            "_model_module": "@jupyter-widgets/base",
            "_model_module_version": "1.2.0",
            "_model_name": "LayoutModel",
            "_view_count": null,
            "_view_module": "@jupyter-widgets/base",
            "_view_module_version": "1.2.0",
            "_view_name": "LayoutView",
            "align_content": null,
            "align_items": null,
            "align_self": null,
            "border": null,
            "bottom": null,
            "display": null,
            "flex": null,
            "flex_flow": null,
            "grid_area": null,
            "grid_auto_columns": null,
            "grid_auto_flow": null,
            "grid_auto_rows": null,
            "grid_column": null,
            "grid_gap": null,
            "grid_row": null,
            "grid_template_areas": null,
            "grid_template_columns": null,
            "grid_template_rows": null,
            "height": null,
            "justify_content": null,
            "justify_items": null,
            "left": null,
            "margin": null,
            "max_height": null,
            "max_width": null,
            "min_height": null,
            "min_width": null,
            "object_fit": null,
            "object_position": null,
            "order": null,
            "overflow": null,
            "overflow_x": null,
            "overflow_y": null,
            "padding": null,
            "right": null,
            "top": null,
            "visibility": null,
            "width": null
          }
        },
        "30680eda038342a4b5894f2d912b14de": {
          "model_module": "@jupyter-widgets/controls",
          "model_name": "DescriptionStyleModel",
          "model_module_version": "1.5.0",
          "state": {
            "_model_module": "@jupyter-widgets/controls",
            "_model_module_version": "1.5.0",
            "_model_name": "DescriptionStyleModel",
            "_view_count": null,
            "_view_module": "@jupyter-widgets/base",
            "_view_module_version": "1.2.0",
            "_view_name": "StyleView",
            "description_width": ""
          }
        },
        "9e2fb3ac52bc44cfa57c5238f1979710": {
          "model_module": "@jupyter-widgets/controls",
          "model_name": "HBoxModel",
          "model_module_version": "1.5.0",
          "state": {
            "_dom_classes": [],
            "_model_module": "@jupyter-widgets/controls",
            "_model_module_version": "1.5.0",
            "_model_name": "HBoxModel",
            "_view_count": null,
            "_view_module": "@jupyter-widgets/controls",
            "_view_module_version": "1.5.0",
            "_view_name": "HBoxView",
            "box_style": "",
            "children": [
              "IPY_MODEL_93a2347ca47d41389b5872b1332b2ccd",
              "IPY_MODEL_5474987ee5cc4bdead034363ad45a997",
              "IPY_MODEL_9501a444649243cdb27b605fb2c69d3a"
            ],
            "layout": "IPY_MODEL_0b1b688bba364b5ea059e35eb52e19c2"
          }
        },
        "93a2347ca47d41389b5872b1332b2ccd": {
          "model_module": "@jupyter-widgets/controls",
          "model_name": "HTMLModel",
          "model_module_version": "1.5.0",
          "state": {
            "_dom_classes": [],
            "_model_module": "@jupyter-widgets/controls",
            "_model_module_version": "1.5.0",
            "_model_name": "HTMLModel",
            "_view_count": null,
            "_view_module": "@jupyter-widgets/controls",
            "_view_module_version": "1.5.0",
            "_view_name": "HTMLView",
            "description": "",
            "description_tooltip": null,
            "layout": "IPY_MODEL_e28220d327ea4c91aa60537af83bb69a",
            "placeholder": "​",
            "style": "IPY_MODEL_d6f0cf5c5cc1428aa1e2d251bfc76715",
            "value": "100%"
          }
        },
        "5474987ee5cc4bdead034363ad45a997": {
          "model_module": "@jupyter-widgets/controls",
          "model_name": "FloatProgressModel",
          "model_module_version": "1.5.0",
          "state": {
            "_dom_classes": [],
            "_model_module": "@jupyter-widgets/controls",
            "_model_module_version": "1.5.0",
            "_model_name": "FloatProgressModel",
            "_view_count": null,
            "_view_module": "@jupyter-widgets/controls",
            "_view_module_version": "1.5.0",
            "_view_name": "ProgressView",
            "bar_style": "success",
            "description": "",
            "description_tooltip": null,
            "layout": "IPY_MODEL_56d85231320f40e683cf0a6f03db9ebb",
            "max": 1000,
            "min": 0,
            "orientation": "horizontal",
            "style": "IPY_MODEL_c8d2a8ae21054af7a88d2f0ae5697636",
            "value": 1000
          }
        },
        "9501a444649243cdb27b605fb2c69d3a": {
          "model_module": "@jupyter-widgets/controls",
          "model_name": "HTMLModel",
          "model_module_version": "1.5.0",
          "state": {
            "_dom_classes": [],
            "_model_module": "@jupyter-widgets/controls",
            "_model_module_version": "1.5.0",
            "_model_name": "HTMLModel",
            "_view_count": null,
            "_view_module": "@jupyter-widgets/controls",
            "_view_module_version": "1.5.0",
            "_view_name": "HTMLView",
            "description": "",
            "description_tooltip": null,
            "layout": "IPY_MODEL_92770890220547d8964de624e3c6c5bb",
            "placeholder": "​",
            "style": "IPY_MODEL_c3b2597e4d6e45c9a3cf05b631c24905",
            "value": " 1000/1000 [00:00&lt;00:00, 3205.25it/s]"
          }
        },
        "0b1b688bba364b5ea059e35eb52e19c2": {
          "model_module": "@jupyter-widgets/base",
          "model_name": "LayoutModel",
          "model_module_version": "1.2.0",
          "state": {
            "_model_module": "@jupyter-widgets/base",
            "_model_module_version": "1.2.0",
            "_model_name": "LayoutModel",
            "_view_count": null,
            "_view_module": "@jupyter-widgets/base",
            "_view_module_version": "1.2.0",
            "_view_name": "LayoutView",
            "align_content": null,
            "align_items": null,
            "align_self": null,
            "border": null,
            "bottom": null,
            "display": null,
            "flex": null,
            "flex_flow": null,
            "grid_area": null,
            "grid_auto_columns": null,
            "grid_auto_flow": null,
            "grid_auto_rows": null,
            "grid_column": null,
            "grid_gap": null,
            "grid_row": null,
            "grid_template_areas": null,
            "grid_template_columns": null,
            "grid_template_rows": null,
            "height": null,
            "justify_content": null,
            "justify_items": null,
            "left": null,
            "margin": null,
            "max_height": null,
            "max_width": null,
            "min_height": null,
            "min_width": null,
            "object_fit": null,
            "object_position": null,
            "order": null,
            "overflow": null,
            "overflow_x": null,
            "overflow_y": null,
            "padding": null,
            "right": null,
            "top": null,
            "visibility": null,
            "width": null
          }
        },
        "e28220d327ea4c91aa60537af83bb69a": {
          "model_module": "@jupyter-widgets/base",
          "model_name": "LayoutModel",
          "model_module_version": "1.2.0",
          "state": {
            "_model_module": "@jupyter-widgets/base",
            "_model_module_version": "1.2.0",
            "_model_name": "LayoutModel",
            "_view_count": null,
            "_view_module": "@jupyter-widgets/base",
            "_view_module_version": "1.2.0",
            "_view_name": "LayoutView",
            "align_content": null,
            "align_items": null,
            "align_self": null,
            "border": null,
            "bottom": null,
            "display": null,
            "flex": null,
            "flex_flow": null,
            "grid_area": null,
            "grid_auto_columns": null,
            "grid_auto_flow": null,
            "grid_auto_rows": null,
            "grid_column": null,
            "grid_gap": null,
            "grid_row": null,
            "grid_template_areas": null,
            "grid_template_columns": null,
            "grid_template_rows": null,
            "height": null,
            "justify_content": null,
            "justify_items": null,
            "left": null,
            "margin": null,
            "max_height": null,
            "max_width": null,
            "min_height": null,
            "min_width": null,
            "object_fit": null,
            "object_position": null,
            "order": null,
            "overflow": null,
            "overflow_x": null,
            "overflow_y": null,
            "padding": null,
            "right": null,
            "top": null,
            "visibility": null,
            "width": null
          }
        },
        "d6f0cf5c5cc1428aa1e2d251bfc76715": {
          "model_module": "@jupyter-widgets/controls",
          "model_name": "DescriptionStyleModel",
          "model_module_version": "1.5.0",
          "state": {
            "_model_module": "@jupyter-widgets/controls",
            "_model_module_version": "1.5.0",
            "_model_name": "DescriptionStyleModel",
            "_view_count": null,
            "_view_module": "@jupyter-widgets/base",
            "_view_module_version": "1.2.0",
            "_view_name": "StyleView",
            "description_width": ""
          }
        },
        "56d85231320f40e683cf0a6f03db9ebb": {
          "model_module": "@jupyter-widgets/base",
          "model_name": "LayoutModel",
          "model_module_version": "1.2.0",
          "state": {
            "_model_module": "@jupyter-widgets/base",
            "_model_module_version": "1.2.0",
            "_model_name": "LayoutModel",
            "_view_count": null,
            "_view_module": "@jupyter-widgets/base",
            "_view_module_version": "1.2.0",
            "_view_name": "LayoutView",
            "align_content": null,
            "align_items": null,
            "align_self": null,
            "border": null,
            "bottom": null,
            "display": null,
            "flex": null,
            "flex_flow": null,
            "grid_area": null,
            "grid_auto_columns": null,
            "grid_auto_flow": null,
            "grid_auto_rows": null,
            "grid_column": null,
            "grid_gap": null,
            "grid_row": null,
            "grid_template_areas": null,
            "grid_template_columns": null,
            "grid_template_rows": null,
            "height": null,
            "justify_content": null,
            "justify_items": null,
            "left": null,
            "margin": null,
            "max_height": null,
            "max_width": null,
            "min_height": null,
            "min_width": null,
            "object_fit": null,
            "object_position": null,
            "order": null,
            "overflow": null,
            "overflow_x": null,
            "overflow_y": null,
            "padding": null,
            "right": null,
            "top": null,
            "visibility": null,
            "width": null
          }
        },
        "c8d2a8ae21054af7a88d2f0ae5697636": {
          "model_module": "@jupyter-widgets/controls",
          "model_name": "ProgressStyleModel",
          "model_module_version": "1.5.0",
          "state": {
            "_model_module": "@jupyter-widgets/controls",
            "_model_module_version": "1.5.0",
            "_model_name": "ProgressStyleModel",
            "_view_count": null,
            "_view_module": "@jupyter-widgets/base",
            "_view_module_version": "1.2.0",
            "_view_name": "StyleView",
            "bar_color": null,
            "description_width": ""
          }
        },
        "92770890220547d8964de624e3c6c5bb": {
          "model_module": "@jupyter-widgets/base",
          "model_name": "LayoutModel",
          "model_module_version": "1.2.0",
          "state": {
            "_model_module": "@jupyter-widgets/base",
            "_model_module_version": "1.2.0",
            "_model_name": "LayoutModel",
            "_view_count": null,
            "_view_module": "@jupyter-widgets/base",
            "_view_module_version": "1.2.0",
            "_view_name": "LayoutView",
            "align_content": null,
            "align_items": null,
            "align_self": null,
            "border": null,
            "bottom": null,
            "display": null,
            "flex": null,
            "flex_flow": null,
            "grid_area": null,
            "grid_auto_columns": null,
            "grid_auto_flow": null,
            "grid_auto_rows": null,
            "grid_column": null,
            "grid_gap": null,
            "grid_row": null,
            "grid_template_areas": null,
            "grid_template_columns": null,
            "grid_template_rows": null,
            "height": null,
            "justify_content": null,
            "justify_items": null,
            "left": null,
            "margin": null,
            "max_height": null,
            "max_width": null,
            "min_height": null,
            "min_width": null,
            "object_fit": null,
            "object_position": null,
            "order": null,
            "overflow": null,
            "overflow_x": null,
            "overflow_y": null,
            "padding": null,
            "right": null,
            "top": null,
            "visibility": null,
            "width": null
          }
        },
        "c3b2597e4d6e45c9a3cf05b631c24905": {
          "model_module": "@jupyter-widgets/controls",
          "model_name": "DescriptionStyleModel",
          "model_module_version": "1.5.0",
          "state": {
            "_model_module": "@jupyter-widgets/controls",
            "_model_module_version": "1.5.0",
            "_model_name": "DescriptionStyleModel",
            "_view_count": null,
            "_view_module": "@jupyter-widgets/base",
            "_view_module_version": "1.2.0",
            "_view_name": "StyleView",
            "description_width": ""
          }
        },
        "f653e366b23246b8aa62e84e2b279071": {
          "model_module": "@jupyter-widgets/controls",
          "model_name": "HBoxModel",
          "model_module_version": "1.5.0",
          "state": {
            "_dom_classes": [],
            "_model_module": "@jupyter-widgets/controls",
            "_model_module_version": "1.5.0",
            "_model_name": "HBoxModel",
            "_view_count": null,
            "_view_module": "@jupyter-widgets/controls",
            "_view_module_version": "1.5.0",
            "_view_name": "HBoxView",
            "box_style": "",
            "children": [
              "IPY_MODEL_21b6d90f28614b039dd566dca4eebbdd",
              "IPY_MODEL_146a3c16a6fb42e9a3db8f64da50aa92",
              "IPY_MODEL_465e046240824471acb0cbd755ecfbe1"
            ],
            "layout": "IPY_MODEL_852e53dc842a4feda89aef07368b654d"
          }
        },
        "21b6d90f28614b039dd566dca4eebbdd": {
          "model_module": "@jupyter-widgets/controls",
          "model_name": "HTMLModel",
          "model_module_version": "1.5.0",
          "state": {
            "_dom_classes": [],
            "_model_module": "@jupyter-widgets/controls",
            "_model_module_version": "1.5.0",
            "_model_name": "HTMLModel",
            "_view_count": null,
            "_view_module": "@jupyter-widgets/controls",
            "_view_module_version": "1.5.0",
            "_view_name": "HTMLView",
            "description": "",
            "description_tooltip": null,
            "layout": "IPY_MODEL_517be561a63a41f29412d145dd871a1e",
            "placeholder": "​",
            "style": "IPY_MODEL_50e1b353550745fe983840b08ff9455d",
            "value": "100%"
          }
        },
        "146a3c16a6fb42e9a3db8f64da50aa92": {
          "model_module": "@jupyter-widgets/controls",
          "model_name": "FloatProgressModel",
          "model_module_version": "1.5.0",
          "state": {
            "_dom_classes": [],
            "_model_module": "@jupyter-widgets/controls",
            "_model_module_version": "1.5.0",
            "_model_name": "FloatProgressModel",
            "_view_count": null,
            "_view_module": "@jupyter-widgets/controls",
            "_view_module_version": "1.5.0",
            "_view_name": "ProgressView",
            "bar_style": "success",
            "description": "",
            "description_tooltip": null,
            "layout": "IPY_MODEL_52d3d291277f4416aee0b003afa8a574",
            "max": 15000,
            "min": 0,
            "orientation": "horizontal",
            "style": "IPY_MODEL_15f1da71507446749b98387aab788bc0",
            "value": 15000
          }
        },
        "465e046240824471acb0cbd755ecfbe1": {
          "model_module": "@jupyter-widgets/controls",
          "model_name": "HTMLModel",
          "model_module_version": "1.5.0",
          "state": {
            "_dom_classes": [],
            "_model_module": "@jupyter-widgets/controls",
            "_model_module_version": "1.5.0",
            "_model_name": "HTMLModel",
            "_view_count": null,
            "_view_module": "@jupyter-widgets/controls",
            "_view_module_version": "1.5.0",
            "_view_name": "HTMLView",
            "description": "",
            "description_tooltip": null,
            "layout": "IPY_MODEL_64db2f8ba8a040e3ab3eef2152489074",
            "placeholder": "​",
            "style": "IPY_MODEL_7a31fd74aee54cbe9cb335f1e8b90fbd",
            "value": " 15000/15000 [00:05&lt;00:00, 2328.05it/s]"
          }
        },
        "852e53dc842a4feda89aef07368b654d": {
          "model_module": "@jupyter-widgets/base",
          "model_name": "LayoutModel",
          "model_module_version": "1.2.0",
          "state": {
            "_model_module": "@jupyter-widgets/base",
            "_model_module_version": "1.2.0",
            "_model_name": "LayoutModel",
            "_view_count": null,
            "_view_module": "@jupyter-widgets/base",
            "_view_module_version": "1.2.0",
            "_view_name": "LayoutView",
            "align_content": null,
            "align_items": null,
            "align_self": null,
            "border": null,
            "bottom": null,
            "display": null,
            "flex": null,
            "flex_flow": null,
            "grid_area": null,
            "grid_auto_columns": null,
            "grid_auto_flow": null,
            "grid_auto_rows": null,
            "grid_column": null,
            "grid_gap": null,
            "grid_row": null,
            "grid_template_areas": null,
            "grid_template_columns": null,
            "grid_template_rows": null,
            "height": null,
            "justify_content": null,
            "justify_items": null,
            "left": null,
            "margin": null,
            "max_height": null,
            "max_width": null,
            "min_height": null,
            "min_width": null,
            "object_fit": null,
            "object_position": null,
            "order": null,
            "overflow": null,
            "overflow_x": null,
            "overflow_y": null,
            "padding": null,
            "right": null,
            "top": null,
            "visibility": null,
            "width": null
          }
        },
        "517be561a63a41f29412d145dd871a1e": {
          "model_module": "@jupyter-widgets/base",
          "model_name": "LayoutModel",
          "model_module_version": "1.2.0",
          "state": {
            "_model_module": "@jupyter-widgets/base",
            "_model_module_version": "1.2.0",
            "_model_name": "LayoutModel",
            "_view_count": null,
            "_view_module": "@jupyter-widgets/base",
            "_view_module_version": "1.2.0",
            "_view_name": "LayoutView",
            "align_content": null,
            "align_items": null,
            "align_self": null,
            "border": null,
            "bottom": null,
            "display": null,
            "flex": null,
            "flex_flow": null,
            "grid_area": null,
            "grid_auto_columns": null,
            "grid_auto_flow": null,
            "grid_auto_rows": null,
            "grid_column": null,
            "grid_gap": null,
            "grid_row": null,
            "grid_template_areas": null,
            "grid_template_columns": null,
            "grid_template_rows": null,
            "height": null,
            "justify_content": null,
            "justify_items": null,
            "left": null,
            "margin": null,
            "max_height": null,
            "max_width": null,
            "min_height": null,
            "min_width": null,
            "object_fit": null,
            "object_position": null,
            "order": null,
            "overflow": null,
            "overflow_x": null,
            "overflow_y": null,
            "padding": null,
            "right": null,
            "top": null,
            "visibility": null,
            "width": null
          }
        },
        "50e1b353550745fe983840b08ff9455d": {
          "model_module": "@jupyter-widgets/controls",
          "model_name": "DescriptionStyleModel",
          "model_module_version": "1.5.0",
          "state": {
            "_model_module": "@jupyter-widgets/controls",
            "_model_module_version": "1.5.0",
            "_model_name": "DescriptionStyleModel",
            "_view_count": null,
            "_view_module": "@jupyter-widgets/base",
            "_view_module_version": "1.2.0",
            "_view_name": "StyleView",
            "description_width": ""
          }
        },
        "52d3d291277f4416aee0b003afa8a574": {
          "model_module": "@jupyter-widgets/base",
          "model_name": "LayoutModel",
          "model_module_version": "1.2.0",
          "state": {
            "_model_module": "@jupyter-widgets/base",
            "_model_module_version": "1.2.0",
            "_model_name": "LayoutModel",
            "_view_count": null,
            "_view_module": "@jupyter-widgets/base",
            "_view_module_version": "1.2.0",
            "_view_name": "LayoutView",
            "align_content": null,
            "align_items": null,
            "align_self": null,
            "border": null,
            "bottom": null,
            "display": null,
            "flex": null,
            "flex_flow": null,
            "grid_area": null,
            "grid_auto_columns": null,
            "grid_auto_flow": null,
            "grid_auto_rows": null,
            "grid_column": null,
            "grid_gap": null,
            "grid_row": null,
            "grid_template_areas": null,
            "grid_template_columns": null,
            "grid_template_rows": null,
            "height": null,
            "justify_content": null,
            "justify_items": null,
            "left": null,
            "margin": null,
            "max_height": null,
            "max_width": null,
            "min_height": null,
            "min_width": null,
            "object_fit": null,
            "object_position": null,
            "order": null,
            "overflow": null,
            "overflow_x": null,
            "overflow_y": null,
            "padding": null,
            "right": null,
            "top": null,
            "visibility": null,
            "width": null
          }
        },
        "15f1da71507446749b98387aab788bc0": {
          "model_module": "@jupyter-widgets/controls",
          "model_name": "ProgressStyleModel",
          "model_module_version": "1.5.0",
          "state": {
            "_model_module": "@jupyter-widgets/controls",
            "_model_module_version": "1.5.0",
            "_model_name": "ProgressStyleModel",
            "_view_count": null,
            "_view_module": "@jupyter-widgets/base",
            "_view_module_version": "1.2.0",
            "_view_name": "StyleView",
            "bar_color": null,
            "description_width": ""
          }
        },
        "64db2f8ba8a040e3ab3eef2152489074": {
          "model_module": "@jupyter-widgets/base",
          "model_name": "LayoutModel",
          "model_module_version": "1.2.0",
          "state": {
            "_model_module": "@jupyter-widgets/base",
            "_model_module_version": "1.2.0",
            "_model_name": "LayoutModel",
            "_view_count": null,
            "_view_module": "@jupyter-widgets/base",
            "_view_module_version": "1.2.0",
            "_view_name": "LayoutView",
            "align_content": null,
            "align_items": null,
            "align_self": null,
            "border": null,
            "bottom": null,
            "display": null,
            "flex": null,
            "flex_flow": null,
            "grid_area": null,
            "grid_auto_columns": null,
            "grid_auto_flow": null,
            "grid_auto_rows": null,
            "grid_column": null,
            "grid_gap": null,
            "grid_row": null,
            "grid_template_areas": null,
            "grid_template_columns": null,
            "grid_template_rows": null,
            "height": null,
            "justify_content": null,
            "justify_items": null,
            "left": null,
            "margin": null,
            "max_height": null,
            "max_width": null,
            "min_height": null,
            "min_width": null,
            "object_fit": null,
            "object_position": null,
            "order": null,
            "overflow": null,
            "overflow_x": null,
            "overflow_y": null,
            "padding": null,
            "right": null,
            "top": null,
            "visibility": null,
            "width": null
          }
        },
        "7a31fd74aee54cbe9cb335f1e8b90fbd": {
          "model_module": "@jupyter-widgets/controls",
          "model_name": "DescriptionStyleModel",
          "model_module_version": "1.5.0",
          "state": {
            "_model_module": "@jupyter-widgets/controls",
            "_model_module_version": "1.5.0",
            "_model_name": "DescriptionStyleModel",
            "_view_count": null,
            "_view_module": "@jupyter-widgets/base",
            "_view_module_version": "1.2.0",
            "_view_name": "StyleView",
            "description_width": ""
          }
        }
      }
    }
  },
  "nbformat": 4,
  "nbformat_minor": 5
}